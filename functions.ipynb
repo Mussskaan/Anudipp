{
 "cells": [
  {
   "cell_type": "code",
   "execution_count": 1,
   "id": "33ba63ee-bcac-43fd-8ba7-dac681036180",
   "metadata": {},
   "outputs": [],
   "source": [
    "# functions:block of code that performs a specific task\n",
    "\n",
    "# syntax: def function name():\n",
    "#function body\n",
    "#code to execute"
   ]
  },
  {
   "cell_type": "code",
   "execution_count": 88,
   "id": "32ad8952-ed9d-4f3c-880d-8e68c2a07573",
   "metadata": {},
   "outputs": [],
   "source": [
    "def add_two():\n",
    "    a=10\n",
    "    b=29\n",
    "    c=a+b\n",
    "    print(c)"
   ]
  },
  {
   "cell_type": "code",
   "execution_count": 90,
   "id": "1c4c1444-771f-457f-9545-82eec330311a",
   "metadata": {},
   "outputs": [
    {
     "name": "stdout",
     "output_type": "stream",
     "text": [
      "39\n"
     ]
    }
   ],
   "source": [
    "add_two()"
   ]
  },
  {
   "cell_type": "code",
   "execution_count": 4,
   "id": "cf78d675-a66e-4420-9790-82218b94ae20",
   "metadata": {},
   "outputs": [],
   "source": [
    "def greet():\n",
    "    print(\"hello world!\")\n",
    "    "
   ]
  },
  {
   "cell_type": "code",
   "execution_count": 5,
   "id": "19a8ed27-77d8-4fc8-a33d-48afb873a4b3",
   "metadata": {},
   "outputs": [
    {
     "name": "stdout",
     "output_type": "stream",
     "text": [
      "hello world!\n"
     ]
    }
   ],
   "source": [
    "greet()"
   ]
  },
  {
   "cell_type": "code",
   "execution_count": 6,
   "id": "655b49dc-5f09-4b4d-878c-18db4fcbbbaf",
   "metadata": {},
   "outputs": [],
   "source": [
    "def greet():\n",
    "    name = input(\"enter your name\")\n",
    "    print(f\"hello {name} welcome to the party\")\n",
    "    "
   ]
  },
  {
   "cell_type": "code",
   "execution_count": 15,
   "id": "700c9d49-507e-48a1-b1de-78aba9976866",
   "metadata": {},
   "outputs": [
    {
     "name": "stdin",
     "output_type": "stream",
     "text": [
      "enter your name muskan\n"
     ]
    },
    {
     "name": "stdout",
     "output_type": "stream",
     "text": [
      "hello muskan welcome to the party\n"
     ]
    }
   ],
   "source": [
    "greet()"
   ]
  },
  {
   "cell_type": "code",
   "execution_count": 17,
   "id": "e2921471-0503-4dd1-a96a-546966ed52dc",
   "metadata": {},
   "outputs": [],
   "source": [
    "#user defined functions\n",
    "#built in functions\n",
    "#methods"
   ]
  },
  {
   "cell_type": "code",
   "execution_count": 23,
   "id": "1addc4a7-14b4-42fb-9f65-133de4d10f61",
   "metadata": {},
   "outputs": [],
   "source": [
    "def sub():\n",
    "    a=10\n",
    "    b=30\n",
    "    c=b-a\n",
    "    print(c)"
   ]
  },
  {
   "cell_type": "code",
   "execution_count": 25,
   "id": "74b7a108-2ce6-4e81-b082-3f885ffc5723",
   "metadata": {},
   "outputs": [
    {
     "name": "stdout",
     "output_type": "stream",
     "text": [
      "20\n"
     ]
    }
   ],
   "source": [
    "sub()"
   ]
  },
  {
   "cell_type": "code",
   "execution_count": 27,
   "id": "6456fe7f-be98-4201-b594-8972d622fad4",
   "metadata": {},
   "outputs": [],
   "source": [
    "#basic calculator\n",
    "def calculations():\n",
    "    a=10\n",
    "    b=20\n",
    "    c=b+a,b-a,b*a,b/a\n",
    "    print(c)"
   ]
  },
  {
   "cell_type": "code",
   "execution_count": 29,
   "id": "881f49b5-c33f-4629-b86c-98eb12bd878b",
   "metadata": {},
   "outputs": [
    {
     "name": "stdout",
     "output_type": "stream",
     "text": [
      "(30, 10, 200, 2.0)\n"
     ]
    }
   ],
   "source": [
    "calculations()"
   ]
  },
  {
   "cell_type": "code",
   "execution_count": 61,
   "id": "94da47cc-381d-44c9-841e-8f6143d33d9d",
   "metadata": {},
   "outputs": [],
   "source": [
    "def multiplication_table():\n",
    " num = int(input(\"enter a number for the multiplication table:\"))\n",
    " for i in range(1,11):\n",
    "   print(f\"{num}x{i}={num*i}\")\n",
    " \n"
   ]
  },
  {
   "cell_type": "code",
   "execution_count": 63,
   "id": "88533fd4-4db7-49b1-a18b-2539eaef656b",
   "metadata": {},
   "outputs": [
    {
     "name": "stdin",
     "output_type": "stream",
     "text": [
      "enter a number for the multiplication table: 3\n"
     ]
    },
    {
     "name": "stdout",
     "output_type": "stream",
     "text": [
      "3x1=3\n",
      "3x2=6\n",
      "3x3=9\n",
      "3x4=12\n",
      "3x5=15\n",
      "3x6=18\n",
      "3x7=21\n",
      "3x8=24\n",
      "3x9=27\n",
      "3x10=30\n"
     ]
    }
   ],
   "source": [
    "multiplication_table()"
   ]
  },
  {
   "cell_type": "code",
   "execution_count": null,
   "id": "02e76f31-b045-4451-8cd3-569c787932d3",
   "metadata": {},
   "outputs": [],
   "source": [
    "#parameters\n",
    "#arguments"
   ]
  },
  {
   "cell_type": "code",
   "execution_count": 76,
   "id": "c5753781-b71a-443e-8bab-b3c2806139a6",
   "metadata": {},
   "outputs": [],
   "source": [
    "def func(a,b):\n",
    "    c=a+b\n",
    "    print(c)"
   ]
  },
  {
   "cell_type": "code",
   "execution_count": 78,
   "id": "4a863f8a-1f3b-4b39-93a2-d4ea95a3454d",
   "metadata": {},
   "outputs": [
    {
     "name": "stdout",
     "output_type": "stream",
     "text": [
      "30\n"
     ]
    }
   ],
   "source": [
    "func(10,20)"
   ]
  },
  {
   "cell_type": "code",
   "execution_count": 92,
   "id": "1660c332-9a32-43b5-90df-888b5b18532e",
   "metadata": {},
   "outputs": [
    {
     "name": "stdout",
     "output_type": "stream",
     "text": [
      "39\n"
     ]
    }
   ],
   "source": [
    "add_two()"
   ]
  },
  {
   "cell_type": "code",
   "execution_count": 94,
   "id": "9e02369f-0b06-4b17-84bd-4791ff85b13d",
   "metadata": {},
   "outputs": [],
   "source": [
    "def func2():\n",
    "    a=100\n",
    "    b=20\n",
    "    c=a+b\n",
    "    return c"
   ]
  },
  {
   "cell_type": "code",
   "execution_count": 100,
   "id": "d6d8517b-9161-4c84-bb1b-173f29ff9fa6",
   "metadata": {},
   "outputs": [
    {
     "data": {
      "text/plain": [
       "120"
      ]
     },
     "execution_count": 100,
     "metadata": {},
     "output_type": "execute_result"
    }
   ],
   "source": [
    "func2()"
   ]
  },
  {
   "cell_type": "code",
   "execution_count": 112,
   "id": "c9c6875a-cbd1-4efd-ba3e-9355da8c73d5",
   "metadata": {},
   "outputs": [
    {
     "name": "stdout",
     "output_type": "stream",
     "text": [
      "even\n"
     ]
    }
   ],
   "source": [
    "def check_even(number):\n",
    "    if number % 2==0:\n",
    "        return\"even\"\n",
    "        return \"odd\"\n",
    "result=check_even(4)\n",
    "print(result)"
   ]
  },
  {
   "cell_type": "code",
   "execution_count": 104,
   "id": "23cf428c-0192-42b2-b500-a3f6039476bc",
   "metadata": {},
   "outputs": [
    {
     "data": {
      "text/plain": [
       "'even'"
      ]
     },
     "execution_count": 104,
     "metadata": {},
     "output_type": "execute_result"
    }
   ],
   "source": [
    "check_even(4)"
   ]
  },
  {
   "cell_type": "code",
   "execution_count": 110,
   "id": "c279e798-98a3-45e7-8066-c826cbd54271",
   "metadata": {},
   "outputs": [
    {
     "name": "stdout",
     "output_type": "stream",
     "text": [
      "[1, 2, 3, 4]\n"
     ]
    }
   ],
   "source": [
    "def create_list():\n",
    "    return[1,2,3,4]\n",
    "my_list=create_list()\n",
    "print(my_list)"
   ]
  },
  {
   "cell_type": "code",
   "execution_count": null,
   "id": "8f75729f-6647-48dd-bc04-40932dfc2568",
   "metadata": {},
   "outputs": [],
   "source": []
  }
 ],
 "metadata": {
  "kernelspec": {
   "display_name": "Python [conda env:base] *",
   "language": "python",
   "name": "conda-base-py"
  },
  "language_info": {
   "codemirror_mode": {
    "name": "ipython",
    "version": 3
   },
   "file_extension": ".py",
   "mimetype": "text/x-python",
   "name": "python",
   "nbconvert_exporter": "python",
   "pygments_lexer": "ipython3",
   "version": "3.12.7"
  }
 },
 "nbformat": 4,
 "nbformat_minor": 5
}
