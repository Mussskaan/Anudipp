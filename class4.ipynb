{
 "cells": [
  {
   "cell_type": "code",
   "execution_count": 5,
   "id": "c06742fd-4a6b-4d5c-a41a-4e2b4c76cb65",
   "metadata": {},
   "outputs": [
    {
     "name": "stdout",
     "output_type": "stream",
     "text": [
      "has the student passed? True\n"
     ]
    }
   ],
   "source": [
    "score=75\n",
    "has_passed=(score>=60)\n",
    "print(\"has the student passed?\",has_passed)"
   ]
  },
  {
   "cell_type": "code",
   "execution_count": 3,
   "id": "7d98c31d-734a-45f3-804f-f51c5ca87933",
   "metadata": {},
   "outputs": [
    {
     "data": {
      "text/plain": [
       "True"
      ]
     },
     "execution_count": 3,
     "metadata": {},
     "output_type": "execute_result"
    }
   ],
   "source": [
    "(score>=60)"
   ]
  },
  {
   "cell_type": "code",
   "execution_count": 7,
   "id": "fa2ae6f4-2725-496c-8987-4c3f50cb7bd5",
   "metadata": {},
   "outputs": [
    {
     "name": "stdout",
     "output_type": "stream",
     "text": [
      "is the first item cheaper? True\n"
     ]
    }
   ],
   "source": [
    "item1=40\n",
    "item2=50\n",
    "is_cheaper=(item1<item2)\n",
    "print(\"is the first item cheaper?\",is_cheaper)\n"
   ]
  },
  {
   "cell_type": "code",
   "execution_count": 11,
   "id": "6f8719e7-d951-4e1b-9089-40ad733cadf7",
   "metadata": {},
   "outputs": [],
   "source": [
    "#logical operator\n",
    "#True=1\n",
    "#False=0"
   ]
  },
  {
   "cell_type": "code",
   "execution_count": 15,
   "id": "d4423fa9-0fd2-4f54-b279-247e31a9cbd5",
   "metadata": {},
   "outputs": [
    {
     "data": {
      "text/plain": [
       "False"
      ]
     },
     "execution_count": 15,
     "metadata": {},
     "output_type": "execute_result"
    }
   ],
   "source": [
    "3>2 and 3<2"
   ]
  },
  {
   "cell_type": "code",
   "execution_count": 21,
   "id": "6e302ab6-fbab-4cbb-a0f7-aaeb42333feb",
   "metadata": {},
   "outputs": [
    {
     "data": {
      "text/plain": [
       "True"
      ]
     },
     "execution_count": 21,
     "metadata": {},
     "output_type": "execute_result"
    }
   ],
   "source": [
    "5>4 and 5==5"
   ]
  },
  {
   "cell_type": "code",
   "execution_count": 23,
   "id": "03b4aad8-3943-4e96-b4b5-31c9a648a565",
   "metadata": {},
   "outputs": [
    {
     "data": {
      "text/plain": [
       "False"
      ]
     },
     "execution_count": 23,
     "metadata": {},
     "output_type": "execute_result"
    }
   ],
   "source": [
    "3<3 and 1>8"
   ]
  },
  {
   "cell_type": "code",
   "execution_count": 28,
   "id": "2b7a86a5-7baa-4866-b2d5-990bf0b14b22",
   "metadata": {},
   "outputs": [
    {
     "name": "stdout",
     "output_type": "stream",
     "text": [
      "1\n"
     ]
    }
   ],
   "source": [
    "#bitwise operator\n",
    "a=5\n",
    "b=3\n",
    "result=a&b\n",
    "print(result)"
   ]
  },
  {
   "cell_type": "code",
   "execution_count": 30,
   "id": "80199caf-6d4e-4452-8991-6be6ceef92d8",
   "metadata": {},
   "outputs": [
    {
     "data": {
      "text/plain": [
       "4"
      ]
     },
     "execution_count": 30,
     "metadata": {},
     "output_type": "execute_result"
    }
   ],
   "source": [
    "5&6"
   ]
  },
  {
   "cell_type": "code",
   "execution_count": 32,
   "id": "dc416fd0-4e86-4d0c-9c64-e94e30b2b1c3",
   "metadata": {},
   "outputs": [
    {
     "data": {
      "text/plain": [
       "7"
      ]
     },
     "execution_count": 32,
     "metadata": {},
     "output_type": "execute_result"
    }
   ],
   "source": [
    "5|6"
   ]
  },
  {
   "cell_type": "code",
   "execution_count": 64,
   "id": "bef4d101-8cd6-43c6-bfd2-984a4af25270",
   "metadata": {},
   "outputs": [
    {
     "name": "stdout",
     "output_type": "stream",
     "text": [
      "True\n"
     ]
    }
   ],
   "source": [
    "# membership operator\n",
    "#in \n",
    "\n",
    "my_list=[1,2,3,4,5]\n",
    "print(3 in my_list)"
   ]
  },
  {
   "cell_type": "code",
   "execution_count": 50,
   "id": "069e3048-3eef-4bce-96a5-00dff8cec5d7",
   "metadata": {},
   "outputs": [
    {
     "name": "stdout",
     "output_type": "stream",
     "text": [
      "True\n"
     ]
    }
   ],
   "source": [
    "#not in\n",
    "my_list=[1,2,3,4,5]\n",
    "print(10 not in my_list)"
   ]
  },
  {
   "cell_type": "code",
   "execution_count": 48,
   "id": "bfc03486-978b-4d02-b7d2-b2638db0dc86",
   "metadata": {},
   "outputs": [
    {
     "name": "stdout",
     "output_type": "stream",
     "text": [
      "False\n"
     ]
    }
   ],
   "source": [
    "my_list=[1,2,3,4,5]\n",
    "print(3 not in my_list)"
   ]
  },
  {
   "cell_type": "code",
   "execution_count": 56,
   "id": "4493f8ec-490a-46ce-bb9e-9ab7a9f08037",
   "metadata": {},
   "outputs": [
    {
     "name": "stdout",
     "output_type": "stream",
     "text": [
      "True\n"
     ]
    }
   ],
   "source": [
    "fruits=[\"apple\",\"mango\",\"banana\"]\n",
    "print(\"grape\" not in fruits)"
   ]
  },
  {
   "cell_type": "code",
   "execution_count": 68,
   "id": "270e6076-069e-4a0d-9169-d0a2758a6fea",
   "metadata": {},
   "outputs": [
    {
     "name": "stdout",
     "output_type": "stream",
     "text": [
      "False\n"
     ]
    }
   ],
   "source": [
    "fruits=[\"apple\",\"mango\",\"banana\"]\n",
    "print(\"grape\"  in fruits)"
   ]
  },
  {
   "cell_type": "code",
   "execution_count": 80,
   "id": "69d9628c-e71d-4f2d-8a6e-0c96c1480584",
   "metadata": {},
   "outputs": [
    {
     "name": "stdout",
     "output_type": "stream",
     "text": [
      "True\n"
     ]
    }
   ],
   "source": [
    "my_dict={\"name\":\"muskan\",\"age\":20,\"city\":\"bangalore\"}\n",
    "print(\"name\" in my_dict)\n"
   ]
  },
  {
   "cell_type": "code",
   "execution_count": 84,
   "id": "114096c1-0413-41f0-8692-e1b31a4a036e",
   "metadata": {},
   "outputs": [
    {
     "name": "stdout",
     "output_type": "stream",
     "text": [
      "False\n"
     ]
    }
   ],
   "source": [
    "my_dict={\"name\":\"muskan\",\"age\":20,\"city\":\"bangalore\"}\n",
    "print(\"muskan\" in my_dict)"
   ]
  },
  {
   "cell_type": "code",
   "execution_count": 86,
   "id": "827d8cd9-056d-415a-848a-65db6bf2f74a",
   "metadata": {},
   "outputs": [
    {
     "data": {
      "text/plain": [
       "True"
      ]
     },
     "execution_count": 86,
     "metadata": {},
     "output_type": "execute_result"
    }
   ],
   "source": [
    "#controlstatements\n",
    "a=[1,2,3]\n",
    "1 in a"
   ]
  },
  {
   "cell_type": "code",
   "execution_count": 90,
   "id": "0c580126-d19f-4d2f-b918-af65092436f0",
   "metadata": {},
   "outputs": [
    {
     "name": "stdout",
     "output_type": "stream",
     "text": [
      "i got it\n",
      "this will be printed\n"
     ]
    }
   ],
   "source": [
    "a=[1,2,3]\n",
    "if 1 in a:\n",
    "    print(\"i got it\")\n",
    "    print(\"this will be printed\")"
   ]
  },
  {
   "cell_type": "code",
   "execution_count": 92,
   "id": "2e3fcfa1-45de-42f5-8521-2d9a1ee1532a",
   "metadata": {},
   "outputs": [
    {
     "data": {
      "text/plain": [
       "True"
      ]
     },
     "execution_count": 92,
     "metadata": {},
     "output_type": "execute_result"
    }
   ],
   "source": [
    "age=18\n",
    "age>=18"
   ]
  },
  {
   "cell_type": "code",
   "execution_count": 103,
   "id": "29cb79ce-c019-4fbd-93d6-e7fcb89b56e8",
   "metadata": {},
   "outputs": [
    {
     "name": "stdout",
     "output_type": "stream",
     "text": [
      "you are eligible to vote.\n"
     ]
    }
   ],
   "source": [
    "age=20\n",
    "if age>=19:\n",
    " print(\"you are eligible to vote.\")"
   ]
  },
  {
   "cell_type": "code",
   "execution_count": 111,
   "id": "3dbe8751-f3e8-478e-83ae-e9b8470ff957",
   "metadata": {},
   "outputs": [
    {
     "name": "stdout",
     "output_type": "stream",
     "text": [
      "greater:\n"
     ]
    }
   ],
   "source": [
    "if 5>2:\n",
    "    print(\"greater:\")"
   ]
  },
  {
   "cell_type": "code",
   "execution_count": 113,
   "id": "6d6af513-c51e-4de5-8973-9f04578a8b13",
   "metadata": {},
   "outputs": [],
   "source": [
    "if 5<2:\n",
    "    print(\"greater:\")"
   ]
  },
  {
   "cell_type": "code",
   "execution_count": 115,
   "id": "dd1edb2a-a537-4b54-b09a-1dcaf30c850f",
   "metadata": {},
   "outputs": [
    {
     "name": "stdout",
     "output_type": "stream",
     "text": [
      "greater:\n",
      "this will be printed anyway\n"
     ]
    }
   ],
   "source": [
    "if 5>2:\n",
    "    print(\"greater:\")\n",
    "    print(\"this will be printed anyway\")"
   ]
  },
  {
   "cell_type": "code",
   "execution_count": 119,
   "id": "eac44995-3108-4133-b4fa-6a5ab95530f8",
   "metadata": {},
   "outputs": [
    {
     "name": "stdout",
     "output_type": "stream",
     "text": [
      "if statement with logical operator\n",
      "statement 2\n"
     ]
    }
   ],
   "source": [
    "if 5>2 or 7<3:\n",
    "    print(\"if statement with logical operator\")\n",
    "    print(\"statement 2\")"
   ]
  },
  {
   "cell_type": "code",
   "execution_count": 133,
   "id": "3aeb5cd8-19a3-4aab-9c90-e6a889006d2a",
   "metadata": {},
   "outputs": [
    {
     "name": "stdout",
     "output_type": "stream",
     "text": [
      "its a cold day\n",
      "this will be printed\n"
     ]
    }
   ],
   "source": [
    "#if else\n",
    "temperature=30\n",
    "if temperature<25:\n",
    "    print(\"its a hot day\")\n",
    "else:\n",
    "    print(\"its a cold day\")\n",
    "    print(\"this will be printed\")"
   ]
  },
  {
   "cell_type": "code",
   "execution_count": 145,
   "id": "aa211f8d-49cd-4e09-95b4-e1af5d329280",
   "metadata": {},
   "outputs": [
    {
     "name": "stdin",
     "output_type": "stream",
     "text": [
      "enter the number 14\n"
     ]
    },
    {
     "name": "stdout",
     "output_type": "stream",
     "text": [
      "the number is even\n"
     ]
    }
   ],
   "source": [
    "number=int(input(\"enter the number\"))\n",
    "if number%2==0:\n",
    " print(\"the number is even\")\n",
    "else:\n",
    " print(\"odd\")"
   ]
  },
  {
   "cell_type": "code",
   "execution_count": 147,
   "id": "9b367e42-9dc3-46d5-b27a-802a9f3dbe63",
   "metadata": {},
   "outputs": [],
   "source": [
    "#if elif\n"
   ]
  },
  {
   "cell_type": "code",
   "execution_count": 149,
   "id": "fe84ed74-f108-4280-bb40-889cc761a127",
   "metadata": {},
   "outputs": [
    {
     "name": "stdout",
     "output_type": "stream",
     "text": [
      "grade:C\n"
     ]
    }
   ],
   "source": [
    "marks=75\n",
    "if marks>=90:\n",
    "    print(\"grade:A\")\n",
    "elif marks>=80:\n",
    "    print(\"grade:B\")\n",
    "elif marks>=70:\n",
    "    print(\"grade:C\")\n",
    "else:\n",
    "    print(\"grade:D\")"
   ]
  },
  {
   "cell_type": "code",
   "execution_count": 151,
   "id": "9eb02b20-3350-464a-bf84-300b81e9a252",
   "metadata": {},
   "outputs": [
    {
     "name": "stdout",
     "output_type": "stream",
     "text": [
      "grade:A\n"
     ]
    }
   ],
   "source": [
    "marks=75\n",
    "if marks>=60:\n",
    "    print(\"grade:A\")\n",
    "elif marks>=80:\n",
    "    print(\"grade:B\")\n",
    "elif marks>=70:\n",
    "    print(\"grade:C\")\n",
    "else:\n",
    "    print(\"grade:D\")"
   ]
  },
  {
   "cell_type": "code",
   "execution_count": 153,
   "id": "a7117d26-ea0b-4457-b0ff-9cc37b88c585",
   "metadata": {},
   "outputs": [
    {
     "name": "stdout",
     "output_type": "stream",
     "text": [
      "grade:A\n",
      "grade:C\n"
     ]
    }
   ],
   "source": [
    "marks=75\n",
    "if marks>=60:\n",
    "    print(\"grade:A\")\n",
    "if marks>=80:\n",
    "    print(\"grade:B\")\n",
    "if marks>=70:\n",
    "    print(\"grade:C\")\n",
    "else:\n",
    "    print(\"grade:D\")"
   ]
  },
  {
   "cell_type": "code",
   "execution_count": 161,
   "id": "05ce4861-9b5c-4933-9973-7fa7c1b1c0d4",
   "metadata": {},
   "outputs": [],
   "source": [
    "#nested if\n",
    "#if inside if statement\n"
   ]
  },
  {
   "cell_type": "code",
   "execution_count": 167,
   "id": "c0869607-eecb-45f6-8723-9c4bc5758e1f",
   "metadata": {},
   "outputs": [
    {
     "name": "stdout",
     "output_type": "stream",
     "text": [
      "the number is positive\n",
      "the number is even\n",
      "this will be printed anyhow\n"
     ]
    }
   ],
   "source": [
    "if number>0:\n",
    "    print(\"the number is positive\")\n",
    "    if number % 2 ==0:\n",
    "        print(\"the number is even\")\n",
    "    else:\n",
    "        print(\"the number is odd\")\n",
    "else:\n",
    "    print(\"the number is negative\")\n",
    "print(\"this will be printed anyhow\")\n",
    "\n",
    "    "
   ]
  },
  {
   "cell_type": "code",
   "execution_count": null,
   "id": "69ab7130-2c79-44cc-b8a3-e4990030e00e",
   "metadata": {},
   "outputs": [],
   "source": []
  }
 ],
 "metadata": {
  "kernelspec": {
   "display_name": "Python [conda env:base] *",
   "language": "python",
   "name": "conda-base-py"
  },
  "language_info": {
   "codemirror_mode": {
    "name": "ipython",
    "version": 3
   },
   "file_extension": ".py",
   "mimetype": "text/x-python",
   "name": "python",
   "nbconvert_exporter": "python",
   "pygments_lexer": "ipython3",
   "version": "3.12.7"
  }
 },
 "nbformat": 4,
 "nbformat_minor": 5
}
