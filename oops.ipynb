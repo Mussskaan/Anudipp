{
 "cells": [
  {
   "cell_type": "code",
   "execution_count": 1,
   "id": "c9a3af49-9cb0-4280-adad-6559459f8dd2",
   "metadata": {},
   "outputs": [],
   "source": [
    "#oops\n",
    "#object\n",
    "a=\"hello world\"                 #class "
   ]
  },
  {
   "cell_type": "code",
   "execution_count": 3,
   "id": "f5c2f56f-2758-4ffd-a73f-f242018c17e3",
   "metadata": {},
   "outputs": [
    {
     "name": "stdout",
     "output_type": "stream",
     "text": [
      "<class 'str'>\n"
     ]
    }
   ],
   "source": [
    "print(type(a))"
   ]
  },
  {
   "cell_type": "code",
   "execution_count": 5,
   "id": "08894f09-76ef-4c6e-93ea-c745c505424a",
   "metadata": {},
   "outputs": [
    {
     "data": {
      "text/plain": [
       "'Hello world'"
      ]
     },
     "execution_count": 5,
     "metadata": {},
     "output_type": "execute_result"
    }
   ],
   "source": [
    "a.capitalize()"
   ]
  },
  {
   "cell_type": "code",
   "execution_count": 21,
   "id": "4d733249-d3a0-45a1-9f06-f55a1cde9aac",
   "metadata": {},
   "outputs": [],
   "source": [
    "a= [1,2,3]"
   ]
  },
  {
   "cell_type": "code",
   "execution_count": 23,
   "id": "dfa4c128-5692-4e4d-a31e-f912e939d393",
   "metadata": {},
   "outputs": [
    {
     "name": "stdout",
     "output_type": "stream",
     "text": [
      "<class 'list'>\n"
     ]
    }
   ],
   "source": [
    "print(type(a))"
   ]
  },
  {
   "cell_type": "code",
   "execution_count": 53,
   "id": "843ab323-f975-4295-bb42-b6e8e4dc74c9",
   "metadata": {},
   "outputs": [],
   "source": [
    "def func():\n",
    " a=10\n",
    " b=20\n",
    " c=a+b"
   ]
  },
  {
   "cell_type": "code",
   "execution_count": 60,
   "id": "db7fdbd2-5426-4442-a7ee-fcec00012687",
   "metadata": {},
   "outputs": [
    {
     "data": {
      "text/plain": [
       "7"
      ]
     },
     "execution_count": 60,
     "metadata": {},
     "output_type": "execute_result"
    }
   ],
   "source": [
    "lis=[1,2,3,4,5,6,7]\n",
    "len(lis)"
   ]
  },
  {
   "cell_type": "code",
   "execution_count": 70,
   "id": "5e5985d6-02fb-46ef-a55f-855eefc71efd",
   "metadata": {},
   "outputs": [
    {
     "data": {
      "text/plain": [
       "1"
      ]
     },
     "execution_count": 70,
     "metadata": {},
     "output_type": "execute_result"
    }
   ],
   "source": [
    "min(lis)"
   ]
  },
  {
   "cell_type": "code",
   "execution_count": 72,
   "id": "79a1e674-e1b5-4aa8-9a95-67b182700469",
   "metadata": {},
   "outputs": [
    {
     "data": {
      "text/plain": [
       "7"
      ]
     },
     "execution_count": 72,
     "metadata": {},
     "output_type": "execute_result"
    }
   ],
   "source": [
    "max(lis)"
   ]
  },
  {
   "cell_type": "code",
   "execution_count": 74,
   "id": "3b5f112b-470f-48d5-8117-9dd491af5e5d",
   "metadata": {},
   "outputs": [
    {
     "data": {
      "text/plain": [
       "28"
      ]
     },
     "execution_count": 74,
     "metadata": {},
     "output_type": "execute_result"
    }
   ],
   "source": [
    "sum(lis)"
   ]
  },
  {
   "cell_type": "code",
   "execution_count": 91,
   "id": "7ec7a335-2ee8-4622-a01f-827b309fba25",
   "metadata": {},
   "outputs": [],
   "source": [
    "lis.append(8)"
   ]
  },
  {
   "cell_type": "code",
   "execution_count": 79,
   "id": "a22f4af8-35e2-40d7-aed7-34071353e2e8",
   "metadata": {},
   "outputs": [
    {
     "name": "stdout",
     "output_type": "stream",
     "text": [
      "[1, 2, 3, 4, 5, 6, 7, 8]\n"
     ]
    }
   ],
   "source": [
    "print(lis)"
   ]
  },
  {
   "cell_type": "code",
   "execution_count": 85,
   "id": "6c3720b1-e9f4-4517-8076-507a2b07978a",
   "metadata": {},
   "outputs": [
    {
     "name": "stdout",
     "output_type": "stream",
     "text": [
      "[1, 2, 3, 4, 5, 6, 7, 8, 9, 10, 0]\n"
     ]
    }
   ],
   "source": [
    "lis.extend([9,10,0])\n",
    "print(lis)"
   ]
  },
  {
   "cell_type": "code",
   "execution_count": 145,
   "id": "c3e4e08f-63e3-499d-afcc-e7efc743ff0d",
   "metadata": {},
   "outputs": [],
   "source": [
    "class Mobile_phone1:\n",
    "   def _init_(self,a_col,b_size,c_numc):\n",
    "      self.color = a_col\n",
    "      self.size = b_size\n",
    "      self.camera = c_numc\n",
    "\n",
    "   def calling(self,call_rates):\n",
    "      print(f\"i am calling using{self.color} cell phone and the call rates per second is {call_rates}\")\n",
    "    "
   ]
  },
  {
   "cell_type": "code",
   "execution_count": null,
   "id": "1dcd0ad5-d5e7-4aa2-8f45-e76f2e6f2c32",
   "metadata": {},
   "outputs": [],
   "source": [
    "samsung = Mobile_phone1(\"red\",10,2)"
   ]
  },
  {
   "cell_type": "code",
   "execution_count": 175,
   "id": "53b77816-0221-4d99-9b83-05009ebd9586",
   "metadata": {},
   "outputs": [],
   "source": [
    "def calling(self,call_rates):\n",
    " samsung.color"
   ]
  },
  {
   "cell_type": "code",
   "execution_count": 194,
   "id": "8cbbccd6-d536-49f9-aaed-8db01d70171a",
   "metadata": {},
   "outputs": [],
   "source": [
    "class MyClass:\n",
    "  def _init_(self,arg1,arg2):\n",
    "    self.arg1=arg1\n",
    "    self.arg2=arg2\n",
    "    def my_method(self):\n",
    "     print(self.arg1,self.arg2)"
   ]
  },
  {
   "cell_type": "code",
   "execution_count": 248,
   "id": "3393fe97-4f7d-4c4f-8505-e46b47edbaf0",
   "metadata": {},
   "outputs": [],
   "source": [
    "class Person:\n",
    "    def _init_(self,a,b):\n",
    "        self.name = a\n",
    "        self.age = b\n",
    "    def introduce(self,a):\n",
    "        print(f\"My name is {self.name} and i am {self.age} years old.\")"
   ]
  },
  {
   "cell_type": "code",
   "execution_count": null,
   "id": "003ff752-5cf0-419b-ba94-f3fc4c10036e",
   "metadata": {},
   "outputs": [],
   "source": [
    "person1 = Person(\"Muskan\",20)"
   ]
  },
  {
   "cell_type": "code",
   "execution_count": null,
   "id": "465b1417-b3b4-430a-a5a9-623e34655faa",
   "metadata": {},
   "outputs": [],
   "source": [
    "person1.introduce(\"Muskan\")"
   ]
  },
  {
   "cell_type": "code",
   "execution_count": null,
   "id": "b5054295-7830-410b-97c7-bf0539083993",
   "metadata": {},
   "outputs": [],
   "source": []
  }
 ],
 "metadata": {
  "kernelspec": {
   "display_name": "Python [conda env:base] *",
   "language": "python",
   "name": "conda-base-py"
  },
  "language_info": {
   "codemirror_mode": {
    "name": "ipython",
    "version": 3
   },
   "file_extension": ".py",
   "mimetype": "text/x-python",
   "name": "python",
   "nbconvert_exporter": "python",
   "pygments_lexer": "ipython3",
   "version": "3.12.7"
  }
 },
 "nbformat": 4,
 "nbformat_minor": 5
}
