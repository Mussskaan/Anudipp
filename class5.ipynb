{
 "cells": [
  {
   "cell_type": "code",
   "execution_count": 1,
   "id": "b9a739c1-6fa1-4464-8a0d-4744f12e0904",
   "metadata": {},
   "outputs": [
    {
     "name": "stdout",
     "output_type": "stream",
     "text": [
      "moderate password\n"
     ]
    }
   ],
   "source": [
    "password=\"pass123\"\n",
    "if len( password)<6:\n",
    " print(\"week password\")\n",
    "elif len( password)<=8:\n",
    " print(\"moderate password\")\n",
    "else:\n",
    " print(\"strong password\")\n"
   ]
  },
  {
   "cell_type": "code",
   "execution_count": 15,
   "id": "c65b5498-24e3-4e37-9119-920be0bbc7f6",
   "metadata": {},
   "outputs": [
    {
     "name": "stdout",
     "output_type": "stream",
     "text": [
      "1\n",
      "2\n",
      "3\n",
      "4\n",
      "5\n",
      "6\n"
     ]
    }
   ],
   "source": [
    "#for loop\n",
    "a=[1,2,3,4,5,6,]\n",
    "for i in a:\n",
    "    print(i)   "
   ]
  },
  {
   "cell_type": "code",
   "execution_count": 18,
   "id": "1573c6dc-3fd4-4139-b11e-226bee80cc16",
   "metadata": {},
   "outputs": [
    {
     "name": "stdout",
     "output_type": "stream",
     "text": [
      "apple\n",
      "mango\n",
      "banana\n"
     ]
    }
   ],
   "source": [
    "fruits=[\"apple\",\"mango\",\"banana\"]\n",
    "for fruit in fruits:\n",
    "    print(fruit)"
   ]
  },
  {
   "cell_type": "code",
   "execution_count": 26,
   "id": "8f9ef33c-829a-445d-b23b-a23a69552714",
   "metadata": {},
   "outputs": [
    {
     "name": "stdout",
     "output_type": "stream",
     "text": [
      "h\n",
      "e\n",
      "l\n",
      "l\n",
      "o\n"
     ]
    }
   ],
   "source": [
    "word=\"hello\"\n",
    "for i in word:\n",
    "    print(i)"
   ]
  },
  {
   "cell_type": "code",
   "execution_count": 22,
   "id": "bdfec22d-7c4b-4add-81a1-93c98b3778a3",
   "metadata": {},
   "outputs": [
    {
     "name": "stdout",
     "output_type": "stream",
     "text": [
      "0\n",
      "1\n",
      "2\n",
      "3\n",
      "4\n",
      "5\n",
      "6\n",
      "7\n",
      "8\n",
      "9\n"
     ]
    }
   ],
   "source": [
    "range(0,5)\n",
    "for i in range(0,10):\n",
    "    print (i)"
   ]
  },
  {
   "cell_type": "code",
   "execution_count": 28,
   "id": "6cd852d8-7b2d-4ff8-bc30-5409ac3272e9",
   "metadata": {},
   "outputs": [
    {
     "name": "stdout",
     "output_type": "stream",
     "text": [
      "1\n",
      "4\n",
      "7\n"
     ]
    }
   ],
   "source": [
    "for i in range(1,10,3):\n",
    "    print(i)"
   ]
  },
  {
   "cell_type": "code",
   "execution_count": 38,
   "id": "c4fc95d8-673c-465f-855e-1e6ecb6b0040",
   "metadata": {},
   "outputs": [
    {
     "name": "stdout",
     "output_type": "stream",
     "text": [
      "loop is finished\n"
     ]
    }
   ],
   "source": [
    " a=[]\n",
    "for i in a:\n",
    "    print(i)\n",
    "else:\n",
    "    print(\"loop is finished\")\n",
    "    "
   ]
  },
  {
   "cell_type": "code",
   "execution_count": 40,
   "id": "19527504-bca6-4065-9810-834790e6ed3c",
   "metadata": {},
   "outputs": [
    {
     "name": "stdout",
     "output_type": "stream",
     "text": [
      "0\n",
      "1\n",
      "2\n",
      "3\n",
      "4\n",
      "loop is finished\n"
     ]
    }
   ],
   "source": [
    " a=5\n",
    "for i in range( a):\n",
    "    print(i)\n",
    "else:\n",
    "    print(\"loop is finished\")\n",
    "    "
   ]
  },
  {
   "cell_type": "code",
   "execution_count": 42,
   "id": "fc573b68-83f3-4dc9-aa95-4cea23e5a906",
   "metadata": {},
   "outputs": [
    {
     "name": "stdout",
     "output_type": "stream",
     "text": [
      "i=0,j=0\n",
      "i=0,j=1\n",
      "i=1,j=0\n",
      "i=1,j=1\n",
      "i=2,j=0\n",
      "i=2,j=1\n"
     ]
    }
   ],
   "source": [
    "#nested for loop\n",
    "for i in range(3):\n",
    "    for j in range(2):\n",
    "        print(f\"i={i},j={j}\")"
   ]
  },
  {
   "cell_type": "code",
   "execution_count": 44,
   "id": "f9260715-3c94-482e-baec-df1634d75a85",
   "metadata": {},
   "outputs": [
    {
     "name": "stdout",
     "output_type": "stream",
     "text": [
      "0 0\n",
      "0 1\n",
      "1 0\n",
      "1 1\n",
      "2 0\n",
      "2 1\n"
     ]
    }
   ],
   "source": [
    "for i in range(3):\n",
    "    for j in range(2):\n",
    "        print(i,j)"
   ]
  },
  {
   "cell_type": "code",
   "execution_count": 52,
   "id": "b1bdcb1f-0fe1-49de-99e1-a849de5e83fb",
   "metadata": {},
   "outputs": [
    {
     "name": "stdout",
     "output_type": "stream",
     "text": [
      " my name is muskan\n"
     ]
    }
   ],
   "source": [
    " name=\"muskan\"\n",
    "print(f\" my name is {name}\")\n"
   ]
  },
  {
   "cell_type": "code",
   "execution_count": 58,
   "id": "2c8f0d34-37f0-4cae-9b25-4ca6977ca2ff",
   "metadata": {},
   "outputs": [
    {
     "name": "stdout",
     "output_type": "stream",
     "text": [
      "0\n",
      "this will be first\n",
      "this is second\n",
      "this is third\n",
      "1\n",
      "this will be first\n",
      "this is second\n",
      "this is third\n",
      "2\n",
      "this will be first\n",
      "this is second\n",
      "this is third\n"
     ]
    }
   ],
   "source": [
    "for i in range(3):\n",
    " print(i)\n",
    " print(\"this will be first\")\n",
    " print(\"this is second\")\n",
    " print(\"this is third\")\n",
    "      \n"
   ]
  },
  {
   "cell_type": "code",
   "execution_count": 60,
   "id": "f0d7c566-eb57-42e7-83ff-8bd54447e6ec",
   "metadata": {},
   "outputs": [
    {
     "name": "stdout",
     "output_type": "stream",
     "text": [
      "0 = h\n",
      "1 = e\n",
      "2 = l\n",
      "3 = l\n",
      "4 = o\n"
     ]
    }
   ],
   "source": [
    "st=\"hello\"\n",
    "n=len(st)\n",
    "for i in range(n):\n",
    "    print(i,\"=\",st[i])"
   ]
  },
  {
   "cell_type": "code",
   "execution_count": 64,
   "id": "44e51d42-9afa-4fe8-bc57-6ce3afb10c1e",
   "metadata": {},
   "outputs": [
    {
     "name": "stdout",
     "output_type": "stream",
     "text": [
      "5\n"
     ]
    }
   ],
   "source": [
    "st=\"hello\"\n",
    "n=len(st)\n",
    "print(n)"
   ]
  },
  {
   "cell_type": "code",
   "execution_count": 92,
   "id": "091a897e-0692-4594-bc19-ab198f221fd5",
   "metadata": {},
   "outputs": [
    {
     "name": "stdout",
     "output_type": "stream",
     "text": [
      "0\n",
      "1\n",
      "2\n",
      "3\n",
      "4\n",
      "for loop has been stopped\n"
     ]
    }
   ],
   "source": [
    "#break statement\n",
    "for number in range(10):\n",
    "    if number == 5:\n",
    "        break\n",
    "    print(number)\n",
    "print(\"for loop has been stopped\")"
   ]
  },
  {
   "cell_type": "code",
   "execution_count": 102,
   "id": "8fe642ab-8c36-4e0c-876a-99e6d91c0ee7",
   "metadata": {},
   "outputs": [
    {
     "name": "stdout",
     "output_type": "stream",
     "text": [
      "0\n",
      "1\n",
      "2\n",
      "3\n",
      "4\n",
      "6\n",
      "7\n",
      "8\n",
      "9\n"
     ]
    }
   ],
   "source": [
    "#continue \n",
    "for number in range(10):\n",
    "    if number == 5:\n",
    "        continue\n",
    "    print(number)"
   ]
  },
  {
   "cell_type": "code",
   "execution_count": 104,
   "id": "2edb291c-e58b-42dd-99b5-8cbf0abab5a4",
   "metadata": {},
   "outputs": [
    {
     "name": "stdout",
     "output_type": "stream",
     "text": [
      "0\n",
      "1\n",
      "2\n",
      "4\n"
     ]
    }
   ],
   "source": [
    "#pass\n",
    "for number in range(5):\n",
    "    if number == 3:\n",
    "        pass\n",
    "    else:\n",
    "        print(number)"
   ]
  },
  {
   "cell_type": "code",
   "execution_count": 110,
   "id": "5d849776-17e6-4f5c-b9af-b54d0ec76787",
   "metadata": {},
   "outputs": [
    {
     "name": "stdout",
     "output_type": "stream",
     "text": [
      "number25 found\n"
     ]
    }
   ],
   "source": [
    "numbers=[10,15,20,25,30,35,40]\n",
    "target=25\n",
    "for number in numbers:\n",
    "    if number==target:\n",
    "        print(f\"number{target} found\")\n",
    "        break"
   ]
  },
  {
   "cell_type": "code",
   "execution_count": null,
   "id": "83d18b49-8e2a-4e81-8183-c392d65bd521",
   "metadata": {},
   "outputs": [],
   "source": []
  }
 ],
 "metadata": {
  "kernelspec": {
   "display_name": "Python [conda env:base] *",
   "language": "python",
   "name": "conda-base-py"
  },
  "language_info": {
   "codemirror_mode": {
    "name": "ipython",
    "version": 3
   },
   "file_extension": ".py",
   "mimetype": "text/x-python",
   "name": "python",
   "nbconvert_exporter": "python",
   "pygments_lexer": "ipython3",
   "version": "3.12.7"
  }
 },
 "nbformat": 4,
 "nbformat_minor": 5
}
