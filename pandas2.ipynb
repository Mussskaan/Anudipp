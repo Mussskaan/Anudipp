{
 "cells": [
  {
   "cell_type": "code",
   "execution_count": 1,
   "id": "e9f80309-50a6-4563-824e-ac174d96c29c",
   "metadata": {},
   "outputs": [],
   "source": [
    "#pandas"
   ]
  },
  {
   "cell_type": "code",
   "execution_count": 6,
   "id": "9e36ea4d-2541-46fd-9413-d31b3e493607",
   "metadata": {},
   "outputs": [],
   "source": [
    "import pandas as pd"
   ]
  },
  {
   "cell_type": "code",
   "execution_count": 29,
   "id": "4c6beb84-d3fe-406c-8ec4-df9c73963af7",
   "metadata": {},
   "outputs": [
    {
     "name": "stdout",
     "output_type": "stream",
     "text": [
      "a    10\n",
      "b    20\n",
      "c    30\n",
      "d    40\n",
      "dtype: int64\n"
     ]
    }
   ],
   "source": [
    "s=pd.Series([10,20,30,40],index=['a','b','c','d'])\n",
    "print(s)"
   ]
  },
  {
   "cell_type": "code",
   "execution_count": 17,
   "id": "47c6e234-32f5-44b5-ab4d-bad82d005753",
   "metadata": {},
   "outputs": [
    {
     "name": "stdout",
     "output_type": "stream",
     "text": [
      "0    10\n",
      "1    20\n",
      "2    30\n",
      "dtype: int64\n"
     ]
    }
   ],
   "source": [
    "s1=pd.Series([10,20,30])\n",
    "print(s1)"
   ]
  },
  {
   "cell_type": "code",
   "execution_count": 49,
   "id": "b562ec26-edbf-4e50-9d12-406fbf7ce581",
   "metadata": {},
   "outputs": [
    {
     "name": "stdout",
     "output_type": "stream",
     "text": [
      "january     1200\n",
      "february    2000\n",
      "march       1000\n",
      "april       1800\n",
      "may          900\n",
      "Name: Monthly Sales(USD), dtype: int64\n"
     ]
    }
   ],
   "source": [
    "import pandas as pd\n",
    "months=[\"january\",\"february\",\"march\",\"april\",\"may\"]\n",
    "sales=[1200,2000,1000,1800,900]\n",
    "sales_series=pd.Series(sales,index=months,name=\"Monthly Sales(USD)\")\n",
    "print(sales_series)"
   ]
  },
  {
   "cell_type": "code",
   "execution_count": 51,
   "id": "9cca4dd2-94c8-4905-89bd-17474b6281ba",
   "metadata": {},
   "outputs": [
    {
     "name": "stdout",
     "output_type": "stream",
     "text": [
      "    name  age       city\n",
      "0  alice   25  bangalore\n",
      "1    bob   30    chennai\n",
      "2    sam   21     london\n"
     ]
    }
   ],
   "source": [
    "data={\"name\":[\"alice\",\"bob\",\"sam\"],\n",
    "      \"age\":[25,30,21],\n",
    "      \"city\":[\"bangalore\",\"chennai\",\"london\"]}\n",
    "df=pd.DataFrame(data)\n",
    "print(df)"
   ]
  },
  {
   "cell_type": "code",
   "execution_count": 55,
   "id": "51730716-d140-434d-b83e-46596e8b89b8",
   "metadata": {},
   "outputs": [
    {
     "name": "stdout",
     "output_type": "stream",
     "text": [
      "    name  age       city\n",
      "0  alice   25  bangalore\n",
      "1    bob   30    chennai\n",
      "2    sam   21     london\n",
      "adding new column\n",
      "    name  age       city            email\n",
      "0  alice   25  bangalore  alice@gmail.com\n",
      "1    bob   30    chennai    bob@gmail.com\n",
      "2    sam   21     london    sam@gamil.com\n"
     ]
    }
   ],
   "source": [
    "data={\"name\":[\"alice\",\"bob\",\"sam\"],\n",
    "      \"age\":[25,30,21],\n",
    "      \"city\":[\"bangalore\",\"chennai\",\"london\"]}\n",
    "df=pd.DataFrame(data)\n",
    "print(df)\n",
    "print(\"adding new column\")\n",
    "df[\"email\"]=[\"alice@gmail.com\",\"bob@gmail.com\",\"sam@gamil.com\"]\n",
    "print(df)"
   ]
  },
  {
   "cell_type": "code",
   "execution_count": 59,
   "id": "affc4e62-fe6a-4eb9-b4d3-b000cb252e5c",
   "metadata": {},
   "outputs": [
    {
     "name": "stdout",
     "output_type": "stream",
     "text": [
      "    name  age       city\n",
      "0  alice   25  bangalore\n",
      "1    bob   30    chennai\n",
      "2    sam   21     london\n",
      "adding new column\n",
      "    name  age       city            email\n",
      "0  alice   25  bangalore  alice@gmail.com\n",
      "1    bob   30    chennai    bob@gmail.com\n",
      "2    sam   21     london    sam@gamil.com\n"
     ]
    },
    {
     "ename": "NameError",
     "evalue": "name 'new_column' is not defined",
     "output_type": "error",
     "traceback": [
      "\u001b[1;31m---------------------------------------------------------------------------\u001b[0m",
      "\u001b[1;31mNameError\u001b[0m                                 Traceback (most recent call last)",
      "Cell \u001b[1;32mIn[59], line 10\u001b[0m\n\u001b[0;32m      8\u001b[0m \u001b[38;5;28mprint\u001b[39m(df)\n\u001b[0;32m      9\u001b[0m new_column_name\u001b[38;5;241m=\u001b[39m\u001b[38;5;124m\"\u001b[39m\u001b[38;5;124mGender\u001b[39m\u001b[38;5;124m\"\u001b[39m\n\u001b[1;32m---> 10\u001b[0m new_column[\u001b[38;5;124m\"\u001b[39m\u001b[38;5;124mfemale\u001b[39m\u001b[38;5;124m\"\u001b[39m,\u001b[38;5;124m\"\u001b[39m\u001b[38;5;124mmale\u001b[39m\u001b[38;5;124m\"\u001b[39m,\u001b[38;5;124m\"\u001b[39m\u001b[38;5;124mmale\u001b[39m\u001b[38;5;124m\"\u001b[39m]\n\u001b[0;32m     11\u001b[0m insert_index\u001b[38;5;241m=\u001b[39m\u001b[38;5;241m2\u001b[39m\n\u001b[0;32m     12\u001b[0m df\u001b[38;5;241m.\u001b[39minsert(insert_index,new_column_name,new_column)\n",
      "\u001b[1;31mNameError\u001b[0m: name 'new_column' is not defined"
     ]
    }
   ],
   "source": [
    "data={\"name\":[\"alice\",\"bob\",\"sam\"],\n",
    "      \"age\":[25,30,21],\n",
    "      \"city\":[\"bangalore\",\"chennai\",\"london\"]}\n",
    "df=pd.DataFrame(data)\n",
    "print(df)\n",
    "print(\"adding new column\")\n",
    "df[\"email\"]=[\"alice@gmail.com\",\"bob@gmail.com\",\"sam@gamil.com\"]\n",
    "print(df)\n",
    "new_column_name=\"Gender\"\n",
    "new_column[\"female\",\"male\",\"male\"]\n",
    "insert_index=2\n",
    "df.insert(insert_index,new_column_name,new_column)\n",
    "print(df)"
   ]
  },
  {
   "cell_type": "code",
   "execution_count": null,
   "id": "d00a8a33-202c-473e-a505-773977bb921c",
   "metadata": {},
   "outputs": [],
   "source": []
  }
 ],
 "metadata": {
  "kernelspec": {
   "display_name": "Python [conda env:base] *",
   "language": "python",
   "name": "conda-base-py"
  },
  "language_info": {
   "codemirror_mode": {
    "name": "ipython",
    "version": 3
   },
   "file_extension": ".py",
   "mimetype": "text/x-python",
   "name": "python",
   "nbconvert_exporter": "python",
   "pygments_lexer": "ipython3",
   "version": "3.12.7"
  }
 },
 "nbformat": 4,
 "nbformat_minor": 5
}
