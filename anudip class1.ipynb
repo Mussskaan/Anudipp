{
 "cells": [
  {
   "cell_type": "code",
   "execution_count": 4,
   "id": "1d0c8081-2d9e-46ed-8d16-caa42c9cd3a5",
   "metadata": {},
   "outputs": [
    {
     "name": "stdout",
     "output_type": "stream",
     "text": [
      "hello world!\n"
     ]
    }
   ],
   "source": [
    "print(\"hello world!\")"
   ]
  },
  {
   "cell_type": "code",
   "execution_count": 6,
   "id": "7a715334-5add-435f-9944-bbe63835ebf6",
   "metadata": {},
   "outputs": [
    {
     "name": "stdout",
     "output_type": "stream",
     "text": [
      "muskan\n"
     ]
    }
   ],
   "source": [
    "print(\"muskan\")\n"
   ]
  },
  {
   "cell_type": "code",
   "execution_count": 8,
   "id": "f772f9c7-23ff-43ce-826b-a4bb25b1b3e2",
   "metadata": {},
   "outputs": [
    {
     "name": "stdout",
     "output_type": "stream",
     "text": [
      "welcome to my website\n"
     ]
    }
   ],
   "source": [
    "print(\"welcome to my website\")"
   ]
  },
  {
   "cell_type": "code",
   "execution_count": 10,
   "id": "f5b5d249-1d1a-4598-b721-08fb681ab999",
   "metadata": {},
   "outputs": [
    {
     "name": "stdout",
     "output_type": "stream",
     "text": [
      "20 10\n"
     ]
    }
   ],
   "source": [
    "A=20\n",
    "a=10\n",
    "print(A,a)"
   ]
  },
  {
   "cell_type": "code",
   "execution_count": 12,
   "id": "cdabef8c-4db9-487e-9d14-473e35f8f742",
   "metadata": {},
   "outputs": [
    {
     "name": "stdout",
     "output_type": "stream",
     "text": [
      "20\n"
     ]
    }
   ],
   "source": [
    "print(20)"
   ]
  },
  {
   "cell_type": "code",
   "execution_count": 14,
   "id": "d0da363b-ead4-4d10-a539-4dbb988df990",
   "metadata": {},
   "outputs": [
    {
     "name": "stdout",
     "output_type": "stream",
     "text": [
      "5.6\n"
     ]
    }
   ],
   "source": [
    "print(5.6)"
   ]
  },
  {
   "cell_type": "code",
   "execution_count": 16,
   "id": "89959c7c-6245-45dc-8c1f-70d6b37cb1da",
   "metadata": {},
   "outputs": [
    {
     "name": "stdout",
     "output_type": "stream",
     "text": [
      "hello-world\n"
     ]
    }
   ],
   "source": [
    "print(\"hello\",end=\"-\")\n",
    "print(\"world\")"
   ]
  },
  {
   "cell_type": "code",
   "execution_count": 18,
   "id": "ae8f9f25-5c1c-4a72-92fe-db7676e9a023",
   "metadata": {},
   "outputs": [
    {
     "name": "stdout",
     "output_type": "stream",
     "text": [
      "hi muskan\n"
     ]
    }
   ],
   "source": [
    "print(\"hi\",end=\" \")\n",
    "print(\"muskan\")"
   ]
  },
  {
   "cell_type": "code",
   "execution_count": 20,
   "id": "e68e4d2e-8645-41a4-824c-77e33e30fc4a",
   "metadata": {},
   "outputs": [
    {
     "name": "stdout",
     "output_type": "stream",
     "text": [
      "hello****muskan\n"
     ]
    }
   ],
   "source": [
    "print(\"hello\",end=\"****\")\n",
    "print(\"muskan\")"
   ]
  },
  {
   "cell_type": "code",
   "execution_count": 22,
   "id": "eb0c36ff-8d74-41fa-b08e-8484acae1c01",
   "metadata": {},
   "outputs": [
    {
     "data": {
      "text/plain": [
       "int"
      ]
     },
     "execution_count": 22,
     "metadata": {},
     "output_type": "execute_result"
    }
   ],
   "source": [
    "#data types\n",
    "a=20\n",
    "type(a)"
   ]
  },
  {
   "cell_type": "code",
   "execution_count": 24,
   "id": "8dce3bf6-8d71-4672-910d-e8ac88f52f0f",
   "metadata": {},
   "outputs": [
    {
     "data": {
      "text/plain": [
       "float"
      ]
     },
     "execution_count": 24,
     "metadata": {},
     "output_type": "execute_result"
    }
   ],
   "source": [
    "a=67.8\n",
    "type(a)"
   ]
  },
  {
   "cell_type": "code",
   "execution_count": 26,
   "id": "fef38914-d5e5-478f-9ab8-f52d1d624dc5",
   "metadata": {},
   "outputs": [
    {
     "data": {
      "text/plain": [
       "complex"
      ]
     },
     "execution_count": 26,
     "metadata": {},
     "output_type": "execute_result"
    }
   ],
   "source": [
    "a=4+8j\n",
    "type(a)"
   ]
  },
  {
   "cell_type": "code",
   "execution_count": 28,
   "id": "6fbf1fd0-c054-49e3-8b59-32e5e86900b2",
   "metadata": {},
   "outputs": [
    {
     "data": {
      "text/plain": [
       "list"
      ]
     },
     "execution_count": 28,
     "metadata": {},
     "output_type": "execute_result"
    }
   ],
   "source": [
    "lis=[\"apple\",\"mango\",\"grapes\",2,4,6,8]\n",
    "type(lis)"
   ]
  },
  {
   "cell_type": "code",
   "execution_count": 30,
   "id": "6ccc9c39-80ca-4e8c-b292-ecaa94e5c443",
   "metadata": {},
   "outputs": [
    {
     "data": {
      "text/plain": [
       "tuple"
      ]
     },
     "execution_count": 30,
     "metadata": {},
     "output_type": "execute_result"
    }
   ],
   "source": [
    "a=(\"apple\",5)\n",
    "type(a)"
   ]
  },
  {
   "cell_type": "code",
   "execution_count": 34,
   "id": "8487967a-6852-4931-bc7c-37da02a00a7a",
   "metadata": {},
   "outputs": [
    {
     "data": {
      "text/plain": [
       "set"
      ]
     },
     "execution_count": 34,
     "metadata": {},
     "output_type": "execute_result"
    }
   ],
   "source": [
    "fruits={\"apple\",\"mango\",\"banana\"}\n",
    "type(fruits)"
   ]
  },
  {
   "cell_type": "code",
   "execution_count": null,
   "id": "3ed7ce5a-5adb-4219-9046-867c1bf878e1",
   "metadata": {},
   "outputs": [],
   "source": []
  }
 ],
 "metadata": {
  "kernelspec": {
   "display_name": "Python [conda env:base] *",
   "language": "python",
   "name": "conda-base-py"
  },
  "language_info": {
   "codemirror_mode": {
    "name": "ipython",
    "version": 3
   },
   "file_extension": ".py",
   "mimetype": "text/x-python",
   "name": "python",
   "nbconvert_exporter": "python",
   "pygments_lexer": "ipython3",
   "version": "3.12.7"
  }
 },
 "nbformat": 4,
 "nbformat_minor": 5
}
