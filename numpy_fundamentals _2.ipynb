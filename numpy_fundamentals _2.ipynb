{
 "cells": [
  {
   "cell_type": "code",
   "execution_count": null,
   "id": "dacb0aba-3d2c-423b-a05e-4b8164980020",
   "metadata": {},
   "outputs": [],
   "source": [
    "#using functions to generate data\n"
   ]
  },
  {
   "cell_type": "code",
   "execution_count": 7,
   "id": "9abb82ad-247f-49d7-9829-f11f5abc2c7a",
   "metadata": {},
   "outputs": [],
   "source": [
    "import numpy as np\n",
    "a33=np.ones((3,4))"
   ]
  },
  {
   "cell_type": "code",
   "execution_count": 9,
   "id": "971ad859-6106-4bec-80c8-0c8391cefa0e",
   "metadata": {},
   "outputs": [
    {
     "data": {
      "text/plain": [
       "numpy.ndarray"
      ]
     },
     "execution_count": 9,
     "metadata": {},
     "output_type": "execute_result"
    }
   ],
   "source": [
    "type(a33)"
   ]
  },
  {
   "cell_type": "code",
   "execution_count": 11,
   "id": "4f5cbf2a-5978-4594-ae8f-f498d7ac1e79",
   "metadata": {},
   "outputs": [
    {
     "data": {
      "text/plain": [
       "array([[1., 1., 1., 1.],\n",
       "       [1., 1., 1., 1.],\n",
       "       [1., 1., 1., 1.]])"
      ]
     },
     "execution_count": 11,
     "metadata": {},
     "output_type": "execute_result"
    }
   ],
   "source": [
    "a33"
   ]
  },
  {
   "cell_type": "code",
   "execution_count": 17,
   "id": "2742deca-c6c3-4bea-8691-e2188b7b1bdf",
   "metadata": {},
   "outputs": [],
   "source": [
    "a44=np.zeros((2,4))"
   ]
  },
  {
   "cell_type": "code",
   "execution_count": 28,
   "id": "fdb97856-3cb3-4743-aa3e-6a1986faa4b1",
   "metadata": {},
   "outputs": [
    {
     "data": {
      "text/plain": [
       "array([[0., 0., 0., 0.],\n",
       "       [0., 0., 0., 0.]])"
      ]
     },
     "execution_count": 28,
     "metadata": {},
     "output_type": "execute_result"
    }
   ],
   "source": [
    "a44"
   ]
  },
  {
   "cell_type": "code",
   "execution_count": 32,
   "id": "69c94ea5-3476-4d61-8717-0978ee5f12db",
   "metadata": {},
   "outputs": [],
   "source": [
    "import numpy as np"
   ]
  },
  {
   "cell_type": "code",
   "execution_count": 7,
   "id": "556b2610-eaa5-4783-83bb-8bd1af8425cc",
   "metadata": {},
   "outputs": [
    {
     "data": {
      "text/plain": [
       "array([[0., 0., 0.],\n",
       "       [0., 0., 0.],\n",
       "       [0., 0., 0.]])"
      ]
     },
     "execution_count": 7,
     "metadata": {},
     "output_type": "execute_result"
    }
   ],
   "source": [
    "zeros_array=np.zeros((3,3))\n",
    "zeros_array"
   ]
  },
  {
   "cell_type": "code",
   "execution_count": 11,
   "id": "6d25e1b8-ac64-4a39-83bc-537f2470726b",
   "metadata": {},
   "outputs": [],
   "source": [
    "ones_array=np.ones((2,4))"
   ]
  },
  {
   "cell_type": "code",
   "execution_count": 13,
   "id": "b63ba844-6b51-411d-8fff-015a6c72ce1a",
   "metadata": {},
   "outputs": [
    {
     "data": {
      "text/plain": [
       "array([[1., 1., 1., 1.],\n",
       "       [1., 1., 1., 1.]])"
      ]
     },
     "execution_count": 13,
     "metadata": {},
     "output_type": "execute_result"
    }
   ],
   "source": [
    "ones_array"
   ]
  },
  {
   "cell_type": "code",
   "execution_count": 3,
   "id": "1ee6b415-2d4d-499d-8455-bdebf02b7d84",
   "metadata": {},
   "outputs": [],
   "source": [
    "import numpy as np"
   ]
  },
  {
   "cell_type": "code",
   "execution_count": 5,
   "id": "451ba037-f03e-463b-a91d-13ca36effb10",
   "metadata": {},
   "outputs": [
    {
     "data": {
      "text/plain": [
       "array([[1., 0., 0.],\n",
       "       [0., 1., 0.],\n",
       "       [0., 0., 1.]])"
      ]
     },
     "execution_count": 5,
     "metadata": {},
     "output_type": "execute_result"
    }
   ],
   "source": [
    "identity_matrix=np.eye(3)\n",
    "identity_matrix"
   ]
  },
  {
   "cell_type": "code",
   "execution_count": 15,
   "id": "48388a4a-212b-4b67-96ec-ac0721539b9d",
   "metadata": {},
   "outputs": [
    {
     "data": {
      "text/plain": [
       "array([1, 2, 3, 4])"
      ]
     },
     "execution_count": 15,
     "metadata": {},
     "output_type": "execute_result"
    }
   ],
   "source": [
    "l=[1,2,3,4]\n",
    "np.array(l,dtype=np.int32)"
   ]
  },
  {
   "cell_type": "code",
   "execution_count": 19,
   "id": "193dccdc-f9a7-4ee6-916d-10edb971053f",
   "metadata": {},
   "outputs": [],
   "source": [
    "import numpy as np\n",
    "int_array=np.array([1,2,3,4],dtype=np.int32)\n",
    "float_array=np.array([0.1,0.2,0.3],dtype=np.float64)\n"
   ]
  },
  {
   "cell_type": "code",
   "execution_count": 29,
   "id": "b04a04c9-0228-46b7-a6de-77465cb8424b",
   "metadata": {},
   "outputs": [],
   "source": [
    "a44=np.arange(0,12)            #last ele will be excluded"
   ]
  },
  {
   "cell_type": "code",
   "execution_count": 31,
   "id": "db100611-47e1-4a51-8fca-a59da3ebcbe7",
   "metadata": {},
   "outputs": [
    {
     "data": {
      "text/plain": [
       "array([ 0,  1,  2,  3,  4,  5,  6,  7,  8,  9, 10, 11])"
      ]
     },
     "execution_count": 31,
     "metadata": {},
     "output_type": "execute_result"
    }
   ],
   "source": [
    "a44"
   ]
  },
  {
   "cell_type": "code",
   "execution_count": 33,
   "id": "b9b975f4-ced1-48eb-afab-2e480df8dac1",
   "metadata": {},
   "outputs": [],
   "source": [
    "num=np.arange(10,20)"
   ]
  },
  {
   "cell_type": "code",
   "execution_count": 35,
   "id": "011c45c4-3f3a-454f-9720-5ef5bbb8ed3a",
   "metadata": {},
   "outputs": [
    {
     "data": {
      "text/plain": [
       "array([10, 11, 12, 13, 14, 15, 16, 17, 18, 19])"
      ]
     },
     "execution_count": 35,
     "metadata": {},
     "output_type": "execute_result"
    }
   ],
   "source": [
    "num"
   ]
  },
  {
   "cell_type": "code",
   "execution_count": 37,
   "id": "b37e08e4-af1e-40e7-b4b5-da1a89561fb6",
   "metadata": {},
   "outputs": [],
   "source": [
    "linspace_array_2=np.linspace(0,10,6)"
   ]
  },
  {
   "cell_type": "code",
   "execution_count": 39,
   "id": "bcdfc3cf-344d-4802-805c-37bae2fca9ea",
   "metadata": {},
   "outputs": [
    {
     "data": {
      "text/plain": [
       "array([ 0.,  2.,  4.,  6.,  8., 10.])"
      ]
     },
     "execution_count": 39,
     "metadata": {},
     "output_type": "execute_result"
    }
   ],
   "source": [
    "linspace_array_2"
   ]
  },
  {
   "cell_type": "code",
   "execution_count": 45,
   "id": "1f097340-95f0-4765-9dd5-b8c399b2a0e8",
   "metadata": {},
   "outputs": [],
   "source": [
    "linspace=np.linspace(0,15,3)"
   ]
  },
  {
   "cell_type": "code",
   "execution_count": 47,
   "id": "0cb27272-1899-4275-83fc-1b9bc4ed2999",
   "metadata": {},
   "outputs": [
    {
     "data": {
      "text/plain": [
       "array([ 0. ,  7.5, 15. ])"
      ]
     },
     "execution_count": 47,
     "metadata": {},
     "output_type": "execute_result"
    }
   ],
   "source": [
    "linspace"
   ]
  },
  {
   "cell_type": "code",
   "execution_count": 49,
   "id": "d39bdd50-1a23-43a1-8e96-6826d635187f",
   "metadata": {},
   "outputs": [],
   "source": [
    "zeros_array=np.zeros((3,3))"
   ]
  },
  {
   "cell_type": "code",
   "execution_count": 51,
   "id": "bb7d0730-4567-4f98-8586-290ae7d89d4d",
   "metadata": {},
   "outputs": [],
   "source": [
    "ones_array=np.ones((2,4))"
   ]
  },
  {
   "cell_type": "code",
   "execution_count": 53,
   "id": "387155f8-a4c8-4caa-a3c6-a82d78507a5e",
   "metadata": {},
   "outputs": [],
   "source": [
    "identity_matrix=np.eye(3)"
   ]
  },
  {
   "cell_type": "code",
   "execution_count": 55,
   "id": "49559ed8-20bf-4dae-af38-1625c9360eb3",
   "metadata": {},
   "outputs": [],
   "source": [
    "random_array=np.random.rand(4,4)"
   ]
  },
  {
   "cell_type": "code",
   "execution_count": 57,
   "id": "e4dd354d-7a12-4e03-8a9a-fe15934a24e1",
   "metadata": {},
   "outputs": [
    {
     "data": {
      "text/plain": [
       "array([[0.4551673 , 0.16441146, 0.49978075, 0.74007707],\n",
       "       [0.96926663, 0.80172225, 0.95088347, 0.58889308],\n",
       "       [0.53395494, 0.50865042, 0.51596116, 0.64419847],\n",
       "       [0.9027914 , 0.64390399, 0.25830882, 0.81016198]])"
      ]
     },
     "execution_count": 57,
     "metadata": {},
     "output_type": "execute_result"
    }
   ],
   "source": [
    "random_array"
   ]
  },
  {
   "cell_type": "code",
   "execution_count": 59,
   "id": "2a695dcf-26c1-45e2-84c8-bbca54d9ec25",
   "metadata": {},
   "outputs": [
    {
     "data": {
      "text/plain": [
       "array([[0., 0., 0.],\n",
       "       [0., 0., 0.],\n",
       "       [0., 0., 0.]])"
      ]
     },
     "execution_count": 59,
     "metadata": {},
     "output_type": "execute_result"
    }
   ],
   "source": [
    "zeros_array"
   ]
  },
  {
   "cell_type": "code",
   "execution_count": 61,
   "id": "aa4c8331-5ad7-4714-8e93-388a505f60bb",
   "metadata": {},
   "outputs": [
    {
     "data": {
      "text/plain": [
       "array([[1., 1., 1., 1.],\n",
       "       [1., 1., 1., 1.]])"
      ]
     },
     "execution_count": 61,
     "metadata": {},
     "output_type": "execute_result"
    }
   ],
   "source": [
    "ones_array"
   ]
  },
  {
   "cell_type": "code",
   "execution_count": 63,
   "id": "a86fcc30-85d3-41a7-9f51-60580df457f8",
   "metadata": {},
   "outputs": [
    {
     "data": {
      "text/plain": [
       "array([[1., 0., 0.],\n",
       "       [0., 1., 0.],\n",
       "       [0., 0., 1.]])"
      ]
     },
     "execution_count": 63,
     "metadata": {},
     "output_type": "execute_result"
    }
   ],
   "source": [
    "identity_matrix"
   ]
  },
  {
   "cell_type": "code",
   "execution_count": 65,
   "id": "f7a0af43-27aa-4316-aeab-96348eb35de9",
   "metadata": {},
   "outputs": [],
   "source": [
    "#indexing"
   ]
  },
  {
   "cell_type": "code",
   "execution_count": 67,
   "id": "e0ab412b-7f45-470c-bf63-e4f7187db1c2",
   "metadata": {},
   "outputs": [],
   "source": [
    "import numpy as np"
   ]
  },
  {
   "cell_type": "code",
   "execution_count": 69,
   "id": "32a7b111-d8a6-49d4-994e-d9ae9b87ba29",
   "metadata": {},
   "outputs": [
    {
     "name": "stdout",
     "output_type": "stream",
     "text": [
      "10\n"
     ]
    }
   ],
   "source": [
    "arr=np.array([10,20,30,40])\n",
    "print(arr[0])                     #basic"
   ]
  },
  {
   "cell_type": "code",
   "execution_count": 71,
   "id": "e0a8db2b-98be-4b97-b745-a168345075b3",
   "metadata": {},
   "outputs": [
    {
     "name": "stdout",
     "output_type": "stream",
     "text": [
      "30\n"
     ]
    }
   ],
   "source": [
    "print(arr[-2])"
   ]
  },
  {
   "cell_type": "code",
   "execution_count": 73,
   "id": "7f26bbc5-3052-4217-ad5d-b886ff7471a0",
   "metadata": {},
   "outputs": [
    {
     "name": "stdout",
     "output_type": "stream",
     "text": [
      "40\n"
     ]
    }
   ],
   "source": [
    "print(arr[3])"
   ]
  },
  {
   "cell_type": "code",
   "execution_count": 75,
   "id": "c74fbf25-7ca6-4049-9e68-14af2e8a378e",
   "metadata": {},
   "outputs": [
    {
     "name": "stdout",
     "output_type": "stream",
     "text": [
      "2\n",
      "6\n"
     ]
    }
   ],
   "source": [
    "matrix=np.array([[1,2,3],\n",
    "                [4,5,6]])\n",
    "print(matrix[0,1])                       #first row,second column\n",
    "print(matrix[1,2])"
   ]
  },
  {
   "cell_type": "code",
   "execution_count": 79,
   "id": "1d7cfbfb-ba03-4c8f-a734-a3aaa62ac88e",
   "metadata": {},
   "outputs": [
    {
     "name": "stdout",
     "output_type": "stream",
     "text": [
      "3\n"
     ]
    }
   ],
   "source": [
    "print(matrix[0,2])"
   ]
  },
  {
   "cell_type": "code",
   "execution_count": 81,
   "id": "dcea2ec4-f674-4ed9-b395-c723d08135cb",
   "metadata": {},
   "outputs": [],
   "source": [
    "#numpy array slicing              arr[start,stop,step]"
   ]
  },
  {
   "cell_type": "code",
   "execution_count": 83,
   "id": "c316dc03-c01a-4bcb-b498-b89b0b4471fd",
   "metadata": {},
   "outputs": [],
   "source": [
    "arr=np.array([10,20,30,40,50])"
   ]
  },
  {
   "cell_type": "code",
   "execution_count": 85,
   "id": "9edb68a1-b410-4b1e-bfa4-602066ef7693",
   "metadata": {},
   "outputs": [
    {
     "name": "stdout",
     "output_type": "stream",
     "text": [
      "[20 30 40]\n"
     ]
    }
   ],
   "source": [
    "print(arr[1:4])"
   ]
  },
  {
   "cell_type": "code",
   "execution_count": 87,
   "id": "31333d52-c556-476d-af5e-70a038bceb55",
   "metadata": {},
   "outputs": [
    {
     "name": "stdout",
     "output_type": "stream",
     "text": [
      "[10 20 30]\n"
     ]
    }
   ],
   "source": [
    "print(arr[:3])"
   ]
  },
  {
   "cell_type": "code",
   "execution_count": 89,
   "id": "cd862cfc-5116-4af0-a382-7aed1779e0aa",
   "metadata": {},
   "outputs": [
    {
     "name": "stdout",
     "output_type": "stream",
     "text": [
      "[50 40 30 20 10]\n"
     ]
    }
   ],
   "source": [
    "print(arr[::-1])"
   ]
  },
  {
   "cell_type": "code",
   "execution_count": 91,
   "id": "160926f4-34a0-40a1-a67c-aecbcbc59509",
   "metadata": {},
   "outputs": [
    {
     "name": "stdout",
     "output_type": "stream",
     "text": [
      "[10 30 50]\n"
     ]
    }
   ],
   "source": [
    "print(arr[::2])"
   ]
  },
  {
   "cell_type": "code",
   "execution_count": 95,
   "id": "5519b46b-0c74-46af-abb3-109f3aa824d6",
   "metadata": {},
   "outputs": [
    {
     "name": "stdout",
     "output_type": "stream",
     "text": [
      "[10 40]\n"
     ]
    }
   ],
   "source": [
    "print(arr[::3])"
   ]
  },
  {
   "cell_type": "code",
   "execution_count": 97,
   "id": "9a00c5c3-5ec2-4589-928b-c7b47fc98df0",
   "metadata": {},
   "outputs": [
    {
     "name": "stdout",
     "output_type": "stream",
     "text": [
      "[50]\n"
     ]
    }
   ],
   "source": [
    "print(arr[4:])"
   ]
  },
  {
   "cell_type": "code",
   "execution_count": 99,
   "id": "7f69094d-1b15-47b6-9cbd-1449fdfc9498",
   "metadata": {},
   "outputs": [
    {
     "name": "stdout",
     "output_type": "stream",
     "text": [
      "[20 30 40 50]\n"
     ]
    }
   ],
   "source": [
    "print(arr[1:])"
   ]
  },
  {
   "cell_type": "code",
   "execution_count": 101,
   "id": "91dfa918-c9d6-41b0-80a0-39a57e6965d5",
   "metadata": {},
   "outputs": [],
   "source": [
    "#2d array slicing"
   ]
  },
  {
   "cell_type": "code",
   "execution_count": 103,
   "id": "48ab9b7f-f8f4-4d40-87f2-eddcf0407dc2",
   "metadata": {},
   "outputs": [
    {
     "name": "stdout",
     "output_type": "stream",
     "text": [
      "[[2 3]\n",
      " [5 6]]\n"
     ]
    }
   ],
   "source": [
    "matrix=np.array([[1,2,3],\n",
    "                 [4,5,6],\n",
    "                 [7,8,9]])\n",
    "print(matrix[0:2,1:3])"
   ]
  },
  {
   "cell_type": "code",
   "execution_count": 131,
   "id": "2c0bdd93-7700-46db-adad-fe03b65b4f3d",
   "metadata": {},
   "outputs": [
    {
     "name": "stdout",
     "output_type": "stream",
     "text": [
      "[[8]]\n"
     ]
    }
   ],
   "source": [
    "print(matrix[2:3,1:2])"
   ]
  },
  {
   "cell_type": "code",
   "execution_count": 133,
   "id": "698c4d40-b820-462d-bbd7-2612674c8abd",
   "metadata": {},
   "outputs": [
    {
     "name": "stdout",
     "output_type": "stream",
     "text": [
      "[[5]\n",
      " [8]]\n"
     ]
    }
   ],
   "source": [
    "print(matrix[1:3,1:2])"
   ]
  },
  {
   "cell_type": "code",
   "execution_count": 135,
   "id": "8d152ee0-d2d2-40ee-b9ae-516ae3fa53d3",
   "metadata": {},
   "outputs": [],
   "source": [
    "#numpy array copy vs view"
   ]
  },
  {
   "cell_type": "code",
   "execution_count": 159,
   "id": "53943e41-a64b-4e59-a336-d89631ffa9cd",
   "metadata": {},
   "outputs": [
    {
     "name": "stdout",
     "output_type": "stream",
     "text": [
      "[ 1 99  3  4]\n"
     ]
    }
   ],
   "source": [
    "#view\n",
    "a=np.array([1,2,3,4])\n",
    "b=a[1:3].view()\n",
    "b[0]=99\n",
    "print(a)"
   ]
  },
  {
   "cell_type": "code",
   "execution_count": 153,
   "id": "159536bf-2d85-49b9-adc6-6bf29d7d3b06",
   "metadata": {},
   "outputs": [
    {
     "name": "stdout",
     "output_type": "stream",
     "text": [
      "[1 2 3 4]\n"
     ]
    }
   ],
   "source": [
    "#copy\n",
    "a=np.array([1,2,3,4])\n",
    "b=a[1:3].copy()\n",
    "b[0]=99\n",
    "print(a)"
   ]
  },
  {
   "cell_type": "code",
   "execution_count": 155,
   "id": "821ad58a-7393-4786-940d-1b3fc142d235",
   "metadata": {},
   "outputs": [
    {
     "name": "stdout",
     "output_type": "stream",
     "text": [
      "[99  3]\n"
     ]
    }
   ],
   "source": [
    "print(b)"
   ]
  },
  {
   "cell_type": "code",
   "execution_count": 161,
   "id": "020ddb42-c0c5-41a5-988e-af63258e5329",
   "metadata": {},
   "outputs": [
    {
     "name": "stdout",
     "output_type": "stream",
     "text": [
      "(2, 3)\n"
     ]
    }
   ],
   "source": [
    "arr=np.array([[1,2,3],[4,5,6]])\n",
    "print(arr.shape)"
   ]
  },
  {
   "cell_type": "code",
   "execution_count": 173,
   "id": "cc682a6e-583e-4b37-a99d-64279365efb2",
   "metadata": {},
   "outputs": [
    {
     "data": {
      "text/plain": [
       "array([ 0,  1,  2,  3,  4,  5,  6,  7,  8,  9, 10, 11])"
      ]
     },
     "execution_count": 173,
     "metadata": {},
     "output_type": "execute_result"
    }
   ],
   "source": [
    "\n",
    "a=np.arange(12)\n",
    "a\n",
    "\n"
   ]
  },
  {
   "cell_type": "code",
   "execution_count": 175,
   "id": "bc1c4f1e-9e24-45f0-a5f5-a55bba37ba1c",
   "metadata": {},
   "outputs": [],
   "source": [
    "b=a.reshape(3,4)"
   ]
  },
  {
   "cell_type": "code",
   "execution_count": 177,
   "id": "d4ccee0c-bb0d-4039-a247-e9d5f5ff0943",
   "metadata": {},
   "outputs": [
    {
     "data": {
      "text/plain": [
       "array([[ 0,  1,  2,  3],\n",
       "       [ 4,  5,  6,  7],\n",
       "       [ 8,  9, 10, 11]])"
      ]
     },
     "execution_count": 177,
     "metadata": {},
     "output_type": "execute_result"
    }
   ],
   "source": [
    "b"
   ]
  },
  {
   "cell_type": "code",
   "execution_count": 187,
   "id": "826838c6-f11b-45d3-99a4-43daa4a2fdd0",
   "metadata": {},
   "outputs": [],
   "source": [
    "b=a.reshape(12,1)"
   ]
  },
  {
   "cell_type": "code",
   "execution_count": 189,
   "id": "89123bee-7bbd-4ca0-8ae4-b22b529d1399",
   "metadata": {},
   "outputs": [
    {
     "data": {
      "text/plain": [
       "array([[ 0],\n",
       "       [ 1],\n",
       "       [ 2],\n",
       "       [ 3],\n",
       "       [ 4],\n",
       "       [ 5],\n",
       "       [ 6],\n",
       "       [ 7],\n",
       "       [ 8],\n",
       "       [ 9],\n",
       "       [10],\n",
       "       [11]])"
      ]
     },
     "execution_count": 189,
     "metadata": {},
     "output_type": "execute_result"
    }
   ],
   "source": [
    "b"
   ]
  },
  {
   "cell_type": "code",
   "execution_count": 183,
   "id": "01a1af1e-5b1e-4fbf-8a75-bbff501bee91",
   "metadata": {},
   "outputs": [],
   "source": [
    "b=a.reshape(6,2)"
   ]
  },
  {
   "cell_type": "code",
   "execution_count": 185,
   "id": "c0eec6a5-e662-4363-9091-f8a0e3b0a739",
   "metadata": {},
   "outputs": [
    {
     "data": {
      "text/plain": [
       "array([[ 0,  1],\n",
       "       [ 2,  3],\n",
       "       [ 4,  5],\n",
       "       [ 6,  7],\n",
       "       [ 8,  9],\n",
       "       [10, 11]])"
      ]
     },
     "execution_count": 185,
     "metadata": {},
     "output_type": "execute_result"
    }
   ],
   "source": [
    "b"
   ]
  },
  {
   "cell_type": "code",
   "execution_count": 191,
   "id": "7f9fa7ed-b310-498e-946a-d0aa7783fdd3",
   "metadata": {},
   "outputs": [],
   "source": [
    "b=a.reshape(1,12)"
   ]
  },
  {
   "cell_type": "code",
   "execution_count": 193,
   "id": "f74e60de-5ba4-4fa8-bbca-e5d9edbf0c47",
   "metadata": {},
   "outputs": [
    {
     "data": {
      "text/plain": [
       "array([[ 0,  1,  2,  3,  4,  5,  6,  7,  8,  9, 10, 11]])"
      ]
     },
     "execution_count": 193,
     "metadata": {},
     "output_type": "execute_result"
    }
   ],
   "source": [
    "b"
   ]
  },
  {
   "cell_type": "code",
   "execution_count": 195,
   "id": "8cbbe33f-a229-46f0-abe0-c7e54160476e",
   "metadata": {},
   "outputs": [],
   "source": [
    "#array attributes"
   ]
  },
  {
   "cell_type": "code",
   "execution_count": null,
   "id": "45eb64de-1cad-4df5-a625-4c8d842df81f",
   "metadata": {},
   "outputs": [],
   "source": [
    "#transpose"
   ]
  },
  {
   "cell_type": "code",
   "execution_count": 199,
   "id": "d74a0742-ad96-4f11-a786-571e95675f60",
   "metadata": {},
   "outputs": [],
   "source": [
    "arr=np.array([[ 0,  1,  2,  3],\n",
    "       [ 4,  5,  6,  7],\n",
    "       [ 8,  9, 10, 11]])"
   ]
  },
  {
   "cell_type": "code",
   "execution_count": 201,
   "id": "e40d05f9-d326-40a1-bf9b-4f0f0d4d70f0",
   "metadata": {},
   "outputs": [
    {
     "data": {
      "text/plain": [
       "array([[ 0,  4,  8],\n",
       "       [ 1,  5,  9],\n",
       "       [ 2,  6, 10],\n",
       "       [ 3,  7, 11]])"
      ]
     },
     "execution_count": 201,
     "metadata": {},
     "output_type": "execute_result"
    }
   ],
   "source": [
    "arr.transpose()"
   ]
  },
  {
   "cell_type": "code",
   "execution_count": 203,
   "id": "d524a867-09ad-4eb0-84a0-1a2007109da8",
   "metadata": {},
   "outputs": [
    {
     "data": {
      "text/plain": [
       "array([[ 0,  1,  2,  3],\n",
       "       [ 4,  5,  6,  7],\n",
       "       [ 8,  9, 10, 11]])"
      ]
     },
     "execution_count": 203,
     "metadata": {},
     "output_type": "execute_result"
    }
   ],
   "source": [
    "arr.view()"
   ]
  },
  {
   "cell_type": "code",
   "execution_count": 211,
   "id": "2be71603-e8b7-48a5-b02b-7950bd432df7",
   "metadata": {},
   "outputs": [],
   "source": [
    "arr.sort()"
   ]
  },
  {
   "cell_type": "code",
   "execution_count": 213,
   "id": "27acb807-35dc-42fc-87cd-cd22e8661506",
   "metadata": {},
   "outputs": [
    {
     "data": {
      "text/plain": [
       "array([[ 0,  1,  2,  3],\n",
       "       [ 4,  5,  6,  7],\n",
       "       [ 8,  9, 10, 11]])"
      ]
     },
     "execution_count": 213,
     "metadata": {},
     "output_type": "execute_result"
    }
   ],
   "source": [
    "arr"
   ]
  },
  {
   "cell_type": "code",
   "execution_count": null,
   "id": "6d4168c1-bc89-4a88-bf28-64dbc850ee89",
   "metadata": {},
   "outputs": [],
   "source": []
  },
  {
   "cell_type": "code",
   "execution_count": null,
   "id": "c7d2f8ab-99a9-4398-b5d4-07ed0bf304d5",
   "metadata": {},
   "outputs": [],
   "source": []
  }
 ],
 "metadata": {
  "kernelspec": {
   "display_name": "Python [conda env:base] *",
   "language": "python",
   "name": "conda-base-py"
  },
  "language_info": {
   "codemirror_mode": {
    "name": "ipython",
    "version": 3
   },
   "file_extension": ".py",
   "mimetype": "text/x-python",
   "name": "python",
   "nbconvert_exporter": "python",
   "pygments_lexer": "ipython3",
   "version": "3.12.7"
  }
 },
 "nbformat": 4,
 "nbformat_minor": 5
}
