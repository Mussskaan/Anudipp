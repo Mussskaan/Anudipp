{
 "cells": [
  {
   "cell_type": "markdown",
   "id": "6e3a8d33-c7a7-4034-ae0a-35801b3e667f",
   "metadata": {},
   "source": [
    "1)  calculate the multiplication and sum of two numbers"
   ]
  },
  {
   "cell_type": "code",
   "execution_count": 13,
   "id": "1863d2eb-74fb-4dfd-a8e9-91ec3245b1c9",
   "metadata": {},
   "outputs": [],
   "source": [
    "a=5\n",
    "b=3"
   ]
  },
  {
   "cell_type": "code",
   "execution_count": 4,
   "id": "c741ff6d-7df7-456b-a178-caf371dd43aa",
   "metadata": {},
   "outputs": [],
   "source": [
    "multiplication=a*b"
   ]
  },
  {
   "cell_type": "code",
   "execution_count": 6,
   "id": "b0ff2889-8a17-4c41-933b-0e835c297e30",
   "metadata": {},
   "outputs": [],
   "source": [
    "addition=a+b"
   ]
  },
  {
   "cell_type": "code",
   "execution_count": 10,
   "id": "b4be5236-109d-4bf1-8276-dd6f1c76c234",
   "metadata": {},
   "outputs": [
    {
     "name": "stdout",
     "output_type": "stream",
     "text": [
      "multiplication: 15\n",
      "sum: 8\n"
     ]
    }
   ],
   "source": [
    "print(\"multiplication:\",multiplication)\n",
    "print(\"sum:\",addition)"
   ]
  },
  {
   "cell_type": "markdown",
   "id": "9f9df73e-6ac3-42f5-8cb7-ce1464ad29c5",
   "metadata": {},
   "source": [
    "2) declare two variables and print that which variable is largest using tempary operators"
   ]
  },
  {
   "cell_type": "code",
   "execution_count": 20,
   "id": "b050b19b-a8dd-4537-867d-960f3658a512",
   "metadata": {},
   "outputs": [
    {
     "name": "stdout",
     "output_type": "stream",
     "text": [
      "the largest number is: 20\n"
     ]
    }
   ],
   "source": [
    "a=10\n",
    "b=20\n",
    "largest=a if a>b else b\n",
    "print(\"the largest number is:\",largest)"
   ]
  },
  {
   "cell_type": "markdown",
   "id": "91d30b34-46ad-4f81-9c2f-1e0dbe772925",
   "metadata": {},
   "source": [
    "3) take input from the user(name,age and city)and print it in a formatted string"
   ]
  },
  {
   "cell_type": "code",
   "execution_count": 23,
   "id": "8112a096-f036-45c2-8cd9-464844170817",
   "metadata": {},
   "outputs": [
    {
     "name": "stdin",
     "output_type": "stream",
     "text": [
      "enter your name: Muskan M\n",
      "enter your age: 20\n",
      "enter your city: bamgalore\n"
     ]
    },
    {
     "name": "stdout",
     "output_type": "stream",
     "text": [
      "f my name is (name),,i am {age} years old,and i live in {city}.\n"
     ]
    }
   ],
   "source": [
    "name=input(\"enter your name:\")\n",
    "age=input(\"enter your age:\")\n",
    "city=input(\"enter your city:\")\n",
    "print(\"f my name is (name),,i am {age} years old,and i live in {city}.\")"
   ]
  },
  {
   "cell_type": "markdown",
   "id": "63cbc091-2921-4574-abd9-1d49b7d5be7c",
   "metadata": {},
   "source": [
    "4) python program to find the area of triangle whose sides are given"
   ]
  },
  {
   "cell_type": "code",
   "execution_count": 32,
   "id": "e8d7ef2b-7d2f-4db7-a00b-2f1ae33b7efa",
   "metadata": {},
   "outputs": [
    {
     "name": "stdout",
     "output_type": "stream",
     "text": [
      "the area of the triangle is:14.70\n"
     ]
    }
   ],
   "source": [
    "import math\n",
    "a=5\n",
    "b=6\n",
    "c=7\n",
    "s=(a+b+c)/2\n",
    "area=math.sqrt(s*(s-a)*(s-b)*(s-c))\n",
    "print(f\"the area of the triangle is:{area:.2f}\")"
   ]
  },
  {
   "cell_type": "code",
   "execution_count": null,
   "id": "04ed11a5-e1ab-438d-b2dc-962d31779153",
   "metadata": {},
   "outputs": [],
   "source": []
  }
 ],
 "metadata": {
  "kernelspec": {
   "display_name": "Python [conda env:base] *",
   "language": "python",
   "name": "conda-base-py"
  },
  "language_info": {
   "codemirror_mode": {
    "name": "ipython",
    "version": 3
   },
   "file_extension": ".py",
   "mimetype": "text/x-python",
   "name": "python",
   "nbconvert_exporter": "python",
   "pygments_lexer": "ipython3",
   "version": "3.12.7"
  }
 },
 "nbformat": 4,
 "nbformat_minor": 5
}
