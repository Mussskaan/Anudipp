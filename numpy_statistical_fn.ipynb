{
 "cells": [
  {
   "cell_type": "code",
   "execution_count": 3,
   "id": "f2d40f4f-a5fc-4e04-9cc2-9ff4e4c94c91",
   "metadata": {},
   "outputs": [],
   "source": [
    "#numpy statistical functions"
   ]
  },
  {
   "cell_type": "code",
   "execution_count": 5,
   "id": "9da01e88-2d2b-46a7-850e-041b9b90b69f",
   "metadata": {},
   "outputs": [],
   "source": [
    "#skewed data    -1000,-6,-1,0,1,3,1000"
   ]
  },
  {
   "cell_type": "code",
   "execution_count": 9,
   "id": "7bcdd2a0-b450-49b6-ac6a-7e0c73e5d79f",
   "metadata": {},
   "outputs": [],
   "source": [
    "import numpy as np"
   ]
  },
  {
   "cell_type": "code",
   "execution_count": 11,
   "id": "11c829ce-639d-4df6-afb0-551eb08cb68b",
   "metadata": {},
   "outputs": [
    {
     "name": "stdout",
     "output_type": "stream",
     "text": [
      "median income: 62500.0\n"
     ]
    }
   ],
   "source": [
    "incomes=np.array([45000,60000,65000,70000,8000,90000])\n",
    "median_income=np.median(incomes)\n",
    "print(\"median income:\",median_income)"
   ]
  },
  {
   "cell_type": "code",
   "execution_count": 17,
   "id": "d64806bc-f785-4876-805f-dce052cb60b4",
   "metadata": {},
   "outputs": [
    {
     "name": "stdout",
     "output_type": "stream",
     "text": [
      "average temperature: 75.71428571428571\n"
     ]
    }
   ],
   "source": [
    "temperatures=np.array([72,68,74,80,79,82,75])\n",
    "average_temperature=np.mean(temperatures)\n",
    "print(\"average temperature:\",average_temperature)"
   ]
  },
  {
   "cell_type": "code",
   "execution_count": 21,
   "id": "a4b3107e-cdf2-4b97-b2df-31d6594a55a8",
   "metadata": {},
   "outputs": [
    {
     "data": {
      "text/plain": [
       "90.0"
      ]
     },
     "execution_count": 21,
     "metadata": {},
     "output_type": "execute_result"
    }
   ],
   "source": [
    "classA=np.array([85,88,90,92,95])\n",
    "classB=np.array([70,80,85,95,100])\n",
    "np.mean(classA)\n"
   ]
  },
  {
   "cell_type": "code",
   "execution_count": 23,
   "id": "68d5ec6b-8166-4dc3-b969-e0b46e3c8bba",
   "metadata": {},
   "outputs": [
    {
     "data": {
      "text/plain": [
       "86.0"
      ]
     },
     "execution_count": 23,
     "metadata": {},
     "output_type": "execute_result"
    }
   ],
   "source": [
    "np.mean(classB)"
   ]
  },
  {
   "cell_type": "code",
   "execution_count": 25,
   "id": "86495c1b-8b5b-4d9a-8e85-8d8997f3d0c3",
   "metadata": {},
   "outputs": [
    {
     "data": {
      "text/plain": [
       "3.40587727318528"
      ]
     },
     "execution_count": 25,
     "metadata": {},
     "output_type": "execute_result"
    }
   ],
   "source": [
    "np.std(classA)"
   ]
  },
  {
   "cell_type": "code",
   "execution_count": 27,
   "id": "742895c1-fd09-4c56-894d-4d8238acb94c",
   "metadata": {},
   "outputs": [
    {
     "data": {
      "text/plain": [
       "10.677078252031311"
      ]
     },
     "execution_count": 27,
     "metadata": {},
     "output_type": "execute_result"
    }
   ],
   "source": [
    "np.std(classB)"
   ]
  },
  {
   "cell_type": "code",
   "execution_count": 29,
   "id": "4b99f773-207f-4c4b-befa-1ef0bc3d0c2a",
   "metadata": {},
   "outputs": [],
   "source": [
    " #variance"
   ]
  },
  {
   "cell_type": "code",
   "execution_count": 31,
   "id": "ed7c6d34-dcba-46f1-89c0-6f7d42438b5c",
   "metadata": {},
   "outputs": [],
   "source": [
    "prd_a=np.array([4,3])\n",
    "prd_b=np.array([2,8])"
   ]
  },
  {
   "cell_type": "code",
   "execution_count": 33,
   "id": "99fa1c6c-842c-458a-bd71-253edaa476c3",
   "metadata": {},
   "outputs": [
    {
     "data": {
      "text/plain": [
       "0.25"
      ]
     },
     "execution_count": 33,
     "metadata": {},
     "output_type": "execute_result"
    }
   ],
   "source": [
    "np.var(prd_a)"
   ]
  },
  {
   "cell_type": "code",
   "execution_count": 35,
   "id": "6c4602f7-ae92-4a7a-90f1-9bed005c2b72",
   "metadata": {},
   "outputs": [
    {
     "data": {
      "text/plain": [
       "9.0"
      ]
     },
     "execution_count": 35,
     "metadata": {},
     "output_type": "execute_result"
    }
   ],
   "source": [
    "np.var(prd_b)"
   ]
  },
  {
   "cell_type": "code",
   "execution_count": 37,
   "id": "30aba166-88d6-4aa5-8cc7-933e50e14120",
   "metadata": {},
   "outputs": [],
   "source": [
    "#min and max"
   ]
  },
  {
   "cell_type": "code",
   "execution_count": 39,
   "id": "72389c55-56ff-48fa-9af3-ad4d33fb1f1c",
   "metadata": {},
   "outputs": [
    {
     "name": "stdout",
     "output_type": "stream",
     "text": [
      "min trafic: 1200\n",
      "max trafic: 50000\n"
     ]
    }
   ],
   "source": [
    "daily_trafic=np.array([1200,2000,8000,41000,50000])\n",
    "print(\"min trafic:\",np.min(daily_trafic))\n",
    "print(\"max trafic:\",np.max(daily_trafic))\n"
   ]
  },
  {
   "cell_type": "code",
   "execution_count": 41,
   "id": "99412797-a6fc-4604-a2ee-251a0315a43c",
   "metadata": {},
   "outputs": [],
   "source": [
    "#summation"
   ]
  },
  {
   "cell_type": "code",
   "execution_count": 43,
   "id": "8729dd67-3a30-488c-a41b-2d4a2208e23a",
   "metadata": {},
   "outputs": [
    {
     "name": "stdout",
     "output_type": "stream",
     "text": [
      "total weekly sales: 102200\n"
     ]
    }
   ],
   "source": [
    "sales=np.array([1200,2000,8000,41000,50000])\n",
    "total_sales=np.sum(sales)\n",
    "print(\"total weekly sales:\",total_sales)"
   ]
  },
  {
   "cell_type": "code",
   "execution_count": 47,
   "id": "3f41726f-d239-47b8-95c2-eb518c6b6be8",
   "metadata": {},
   "outputs": [
    {
     "name": "stdout",
     "output_type": "stream",
     "text": [
      "25th percentile: 30.5\n"
     ]
    }
   ],
   "source": [
    "test_scores=np.array([10,20,80,65,32,58,41,96,41,52,92,71,52,62,45,10,25,30,80,95,25,40,50,80,60,30])\n",
    "print(\"25th percentile:\",np.percentile(test_scores,25))"
   ]
  },
  {
   "cell_type": "code",
   "execution_count": 49,
   "id": "bf8a8ec4-af6a-4f66-9143-5090e82ff3b8",
   "metadata": {},
   "outputs": [
    {
     "name": "stdout",
     "output_type": "stream",
     "text": [
      "50th percentile(Median): 51.0\n"
     ]
    }
   ],
   "source": [
    "print(\"50th percentile(Median):\",np.percentile(test_scores,50))"
   ]
  },
  {
   "cell_type": "code",
   "execution_count": 51,
   "id": "1b3c8a7f-867a-45de-87f9-b017a4b6a518",
   "metadata": {},
   "outputs": [
    {
     "name": "stdout",
     "output_type": "stream",
     "text": [
      "75th percentile: 69.5\n"
     ]
    }
   ],
   "source": [
    "print(\"75th percentile:\",np.percentile(test_scores,75))"
   ]
  },
  {
   "cell_type": "code",
   "execution_count": 53,
   "id": "73ec8770-308e-4887-b5be-c0b679b4d46b",
   "metadata": {},
   "outputs": [
    {
     "name": "stdout",
     "output_type": "stream",
     "text": [
      "90th percentile: 86.0\n"
     ]
    }
   ],
   "source": [
    "print(\"90th percentile:\",np.percentile(test_scores,90))"
   ]
  },
  {
   "cell_type": "code",
   "execution_count": 55,
   "id": "9b6d8e2e-01fc-41f5-b48d-b265ef90d4c8",
   "metadata": {},
   "outputs": [],
   "source": [
    "#binary format"
   ]
  },
  {
   "cell_type": "code",
   "execution_count": 57,
   "id": "de8d2569-4e95-46bd-8dfe-792a1f99812e",
   "metadata": {},
   "outputs": [],
   "source": [
    "import numpy as np"
   ]
  },
  {
   "cell_type": "code",
   "execution_count": 61,
   "id": "fb65b662-3121-4cbf-9f3e-67a9570dd012",
   "metadata": {},
   "outputs": [],
   "source": [
    "arr=np.array([1,2,3,4,5])\n",
    "np.save(\"my_array.npy\",arr)"
   ]
  },
  {
   "cell_type": "code",
   "execution_count": 63,
   "id": "175fad7b-a535-4d36-9fac-f4b7d46adea7",
   "metadata": {},
   "outputs": [
    {
     "name": "stdout",
     "output_type": "stream",
     "text": [
      "[1 2 3 4 5]\n"
     ]
    }
   ],
   "source": [
    "loaded_arr=np.load(\"my_array.npy\")\n",
    "print(loaded_arr)"
   ]
  },
  {
   "cell_type": "code",
   "execution_count": 67,
   "id": "19a229f9-9827-4db5-8ee8-44edfc57546e",
   "metadata": {},
   "outputs": [
    {
     "name": "stdout",
     "output_type": "stream",
     "text": [
      "[1 2 3 4 5]\n"
     ]
    }
   ],
   "source": [
    "loaded_arr=np.load(\"my_array.npy\")\n",
    "print(loaded_arr)"
   ]
  },
  {
   "cell_type": "code",
   "execution_count": 69,
   "id": "b68455e1-7e5e-478a-be5e-77b0a9d451f9",
   "metadata": {},
   "outputs": [],
   "source": [
    "arr=np.array([[1,2,3],[4,5,6]])\n",
    "np.savetxt(\"array.txt\",arr)"
   ]
  },
  {
   "cell_type": "code",
   "execution_count": null,
   "id": "c6f9c071-bcf6-4fce-a043-86e45f7a62b1",
   "metadata": {},
   "outputs": [],
   "source": []
  }
 ],
 "metadata": {
  "kernelspec": {
   "display_name": "Python [conda env:base] *",
   "language": "python",
   "name": "conda-base-py"
  },
  "language_info": {
   "codemirror_mode": {
    "name": "ipython",
    "version": 3
   },
   "file_extension": ".py",
   "mimetype": "text/x-python",
   "name": "python",
   "nbconvert_exporter": "python",
   "pygments_lexer": "ipython3",
   "version": "3.12.7"
  }
 },
 "nbformat": 4,
 "nbformat_minor": 5
}
