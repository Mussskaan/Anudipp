{
 "cells": [
  {
   "cell_type": "code",
   "execution_count": 30,
   "id": "6b15a4ad-35ef-4c8b-b9b2-f297c8cd9453",
   "metadata": {},
   "outputs": [],
   "source": [
    "#dictionary\n",
    "student={\"name\":\"muskan\",\"age\":20,\"course\":\"BCA\"}\n"
   ]
  },
  {
   "cell_type": "code",
   "execution_count": 36,
   "id": "e9ac3a0c-46ac-4db8-8b67-7149cbeb8986",
   "metadata": {},
   "outputs": [],
   "source": [
    "house={\"water\":\"shark\",\"land\":\"wolf\"}\n"
   ]
  },
  {
   "cell_type": "code",
   "execution_count": 18,
   "id": "5a4ee5bf-b4ac-4838-ab53-5388b8e8df1f",
   "metadata": {},
   "outputs": [],
   "source": [
    "#variables\n",
    "a=10\n"
   ]
  },
  {
   "cell_type": "code",
   "execution_count": 20,
   "id": "57fcebf7-eac4-45b6-b3bd-150ede689466",
   "metadata": {},
   "outputs": [],
   "source": [
    "myvariable=25\n"
   ]
  },
  {
   "cell_type": "code",
   "execution_count": 22,
   "id": "1bb2dd2b-590e-455b-84cd-71df99e34d55",
   "metadata": {},
   "outputs": [],
   "source": [
    "my_variable=23"
   ]
  },
  {
   "cell_type": "code",
   "execution_count": 24,
   "id": "8f89dbc5-99e7-4108-809a-62e05dec700a",
   "metadata": {},
   "outputs": [],
   "source": [
    "user_age=25"
   ]
  },
  {
   "cell_type": "code",
   "execution_count": 40,
   "id": "e7be0cb4-152e-4d8d-9bb4-362b0665ffa0",
   "metadata": {},
   "outputs": [],
   "source": [
    "age=25\n",
    "name=\"muskan\"\n",
    "\n"
   ]
  },
  {
   "cell_type": "code",
   "execution_count": 43,
   "id": "00702080-be94-4cdf-b99f-8e4d4c4b2472",
   "metadata": {},
   "outputs": [],
   "source": [
    "user_name=\"muskan\"\n",
    "user_name2=\"sanam\""
   ]
  },
  {
   "cell_type": "code",
   "execution_count": 49,
   "id": "fdca208e-1e9a-43a0-94dd-1d4f6e57d5f5",
   "metadata": {},
   "outputs": [],
   "source": [
    "#variables=variable names must start with letter or underscore\n",
    "user_name=\"muskan\"\n",
    "user_age=20\n",
    "user_email=\"mus123@gmail\"\n"
   ]
  },
  {
   "cell_type": "code",
   "execution_count": 51,
   "id": "6bf5a1eb-19c0-4283-bc0b-a80a5be2b7a5",
   "metadata": {},
   "outputs": [
    {
     "name": "stdout",
     "output_type": "stream",
     "text": [
      "muskan\n"
     ]
    }
   ],
   "source": [
    "#comments\n",
    "#it is a note in the code\n",
    "print(\"muskan\")"
   ]
  },
  {
   "cell_type": "code",
   "execution_count": 53,
   "id": "77354224-00c6-4874-b666-e1f6359fc8c0",
   "metadata": {},
   "outputs": [],
   "source": [
    "#a=10 single line comment\n"
   ]
  },
  {
   "cell_type": "code",
   "execution_count": 57,
   "id": "0427b7b2-f00b-4b49-9102-4bac517fe3a6",
   "metadata": {},
   "outputs": [
    {
     "data": {
      "text/plain": [
       "' this is a multiline comment '"
      ]
     },
     "execution_count": 57,
     "metadata": {},
     "output_type": "execute_result"
    }
   ],
   "source": [
    "\"\"\" this is a multiline comment \"\"\""
   ]
  },
  {
   "cell_type": "code",
   "execution_count": 59,
   "id": "ca33ff59-f0f9-4360-93fd-84e346aed6de",
   "metadata": {},
   "outputs": [],
   "source": [
    "# welcome to my website"
   ]
  },
  {
   "cell_type": "code",
   "execution_count": 61,
   "id": "435ad231-73f7-4267-a2ee-ca4cd6788cd9",
   "metadata": {},
   "outputs": [
    {
     "name": "stdout",
     "output_type": "stream",
     "text": [
      "this is a keyword\n"
     ]
    }
   ],
   "source": [
    "if True:\n",
    "    print(\"this is a keyword\")"
   ]
  },
  {
   "cell_type": "code",
   "execution_count": 63,
   "id": "aff0a7a2-c30b-4dfa-88f5-1b495d99d028",
   "metadata": {},
   "outputs": [],
   "source": [
    "var=20"
   ]
  },
  {
   "cell_type": "code",
   "execution_count": 65,
   "id": "735ff1a3-cf5c-499a-b912-7c16e5238ed3",
   "metadata": {},
   "outputs": [],
   "source": [
    "#identifiers\n",
    "my_salary=500000"
   ]
  },
  {
   "cell_type": "code",
   "execution_count": 83,
   "id": "527ea6c7-8e9c-4888-8e75-5c80679ed1e2",
   "metadata": {},
   "outputs": [],
   "source": [
    "user_name =\"muskan\"\n"
   ]
  },
  {
   "cell_type": "code",
   "execution_count": 1,
   "id": "8864d879-be83-439e-976b-72cd44c933d2",
   "metadata": {},
   "outputs": [
    {
     "name": "stdin",
     "output_type": "stream",
     "text": [
      "what is your name muskan\n"
     ]
    }
   ],
   "source": [
    "name=input(\"what is your name\")\n"
   ]
  },
  {
   "cell_type": "code",
   "execution_count": null,
   "id": "53a0332b-5ea0-4d6a-96f5-578307840d35",
   "metadata": {},
   "outputs": [],
   "source": [
    "name=input()\n",
    "muskan\n"
   ]
  },
  {
   "cell_type": "code",
   "execution_count": 8,
   "id": "dcbd8ee0-8aac-4cbb-95b0-b8badc1f72c7",
   "metadata": {},
   "outputs": [
    {
     "name": "stdin",
     "output_type": "stream",
     "text": [
      "name muskan\n",
      "password: 123456\n"
     ]
    }
   ],
   "source": [
    "user_name= input(\"name\")\n",
    "user_password= input(\"password:\")\n"
   ]
  },
  {
   "cell_type": "code",
   "execution_count": 10,
   "id": "8ba63f34-481a-4100-9f28-7c2611c15acc",
   "metadata": {},
   "outputs": [
    {
     "name": "stdin",
     "output_type": "stream",
     "text": [
      "name: muskan\n",
      "password: 123456\n",
      "age: 20\n"
     ]
    }
   ],
   "source": [
    "user_name= input(\"name:\")\n",
    "user_password= input(\"password:\")\n",
    "user_age=input(\"age:\")"
   ]
  },
  {
   "cell_type": "code",
   "execution_count": 20,
   "id": "f1cb8254-a4c4-4d81-a334-3ff344d8d238",
   "metadata": {},
   "outputs": [
    {
     "name": "stdin",
     "output_type": "stream",
     "text": [
      "enter first number 10\n"
     ]
    }
   ],
   "source": [
    "num1 = int(input(\"enter first number\"))\n",
    "\n"
   ]
  },
  {
   "cell_type": "code",
   "execution_count": 40,
   "id": "c96f9540-d943-480e-98ee-1ea302610663",
   "metadata": {},
   "outputs": [
    {
     "name": "stdin",
     "output_type": "stream",
     "text": [
      "enter second number 20\n"
     ]
    }
   ],
   "source": [
    "num2 = int(input(\"enter second number\"))\n"
   ]
  },
  {
   "cell_type": "code",
   "execution_count": 43,
   "id": "231b8a23-8d49-4b5a-a86f-e41767de1a28",
   "metadata": {},
   "outputs": [
    {
     "data": {
      "text/plain": [
       "'10'"
      ]
     },
     "execution_count": 43,
     "metadata": {},
     "output_type": "execute_result"
    }
   ],
   "source": [
    "num1\n",
    "\n"
   ]
  },
  {
   "cell_type": "code",
   "execution_count": 45,
   "id": "b49f72cc-1e1b-4a29-af6a-dcc93125e927",
   "metadata": {},
   "outputs": [
    {
     "data": {
      "text/plain": [
       "20"
      ]
     },
     "execution_count": 45,
     "metadata": {},
     "output_type": "execute_result"
    }
   ],
   "source": [
    "num2"
   ]
  },
  {
   "cell_type": "code",
   "execution_count": 55,
   "id": "7a605c8c-8ee3-49cc-952e-ee544f7aafab",
   "metadata": {},
   "outputs": [
    {
     "name": "stdin",
     "output_type": "stream",
     "text": [
      "enter the number 20\n"
     ]
    }
   ],
   "source": [
    "num1=float(input(\"enter the number\"))"
   ]
  },
  {
   "cell_type": "code",
   "execution_count": 57,
   "id": "1c55125d-5fec-4dd2-880c-2efe01b1cc9b",
   "metadata": {},
   "outputs": [
    {
     "data": {
      "text/plain": [
       "20.0"
      ]
     },
     "execution_count": 57,
     "metadata": {},
     "output_type": "execute_result"
    }
   ],
   "source": [
    "num1"
   ]
  },
  {
   "cell_type": "code",
   "execution_count": 67,
   "id": "564d3238-71b5-462d-a47a-289d4e682d3b",
   "metadata": {},
   "outputs": [
    {
     "name": "stdin",
     "output_type": "stream",
     "text": [
      "enter the number 2.6\n"
     ]
    }
   ],
   "source": [
    "num2=float(input(\"enter the number\"))\n"
   ]
  },
  {
   "cell_type": "code",
   "execution_count": 69,
   "id": "0d811f43-0442-4a38-a373-4a7ba1350119",
   "metadata": {},
   "outputs": [
    {
     "data": {
      "text/plain": [
       "2.6"
      ]
     },
     "execution_count": 69,
     "metadata": {},
     "output_type": "execute_result"
    }
   ],
   "source": [
    "num2"
   ]
  },
  {
   "cell_type": "code",
   "execution_count": 71,
   "id": "e47420f0-e3b9-4c90-ba0c-3858dc5a2c9d",
   "metadata": {},
   "outputs": [
    {
     "name": "stdin",
     "output_type": "stream",
     "text": [
      "enter first number 10\n",
      "enter second number 20\n"
     ]
    },
    {
     "data": {
      "text/plain": [
       "int"
      ]
     },
     "execution_count": 71,
     "metadata": {},
     "output_type": "execute_result"
    }
   ],
   "source": [
    "num1=int(input(\"enter first number\"))\n",
    "num2 = int(input(\"enter second number\"))\n",
    "type(num1)"
   ]
  },
  {
   "cell_type": "code",
   "execution_count": null,
   "id": "8cc4ea04-d079-4955-a962-03aa06a455f3",
   "metadata": {},
   "outputs": [],
   "source": []
  }
 ],
 "metadata": {
  "kernelspec": {
   "display_name": "Python [conda env:base] *",
   "language": "python",
   "name": "conda-base-py"
  },
  "language_info": {
   "codemirror_mode": {
    "name": "ipython",
    "version": 3
   },
   "file_extension": ".py",
   "mimetype": "text/x-python",
   "name": "python",
   "nbconvert_exporter": "python",
   "pygments_lexer": "ipython3",
   "version": "3.12.7"
  }
 },
 "nbformat": 4,
 "nbformat_minor": 5
}
