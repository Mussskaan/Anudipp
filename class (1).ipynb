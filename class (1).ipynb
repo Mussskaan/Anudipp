{
 "cells": [
  {
   "cell_type": "code",
   "execution_count": 7,
   "id": "b26ec410-0d10-4c67-bec8-84733d23212f",
   "metadata": {},
   "outputs": [],
   "source": [
    "my_list=[1,\"hello\",3.14,True]"
   ]
  },
  {
   "cell_type": "code",
   "execution_count": 13,
   "id": "0c752126-1473-47bc-9067-9208c7fdb3c2",
   "metadata": {},
   "outputs": [],
   "source": [
    "import array\n",
    "my_array=[1,\"hello\",3.14,True]"
   ]
  },
  {
   "cell_type": "code",
   "execution_count": 15,
   "id": "7d67f79e-ea77-489e-b1b2-0c2c472987db",
   "metadata": {},
   "outputs": [],
   "source": [
    "import array\n",
    "my_array=array.array(\"i\",[1,2,3,4])"
   ]
  },
  {
   "cell_type": "markdown",
   "id": "14eb2302-3e57-4387-9c37-a6d1270d9501",
   "metadata": {},
   "source": [
    "my_list=[10,20,30]"
   ]
  },
  {
   "cell_type": "code",
   "execution_count": 18,
   "id": "261f7ae6-4945-48eb-8009-957778a9eee8",
   "metadata": {},
   "outputs": [],
   "source": [
    "#list are slower than arrays when it comes to numerical calculation"
   ]
  },
  {
   "cell_type": "code",
   "execution_count": 20,
   "id": "1d5a9fce-2e12-436f-972e-0008272b9255",
   "metadata": {},
   "outputs": [],
   "source": [
    "#indexing and slicing in python\n",
    "fruits=[\"apple\",\"banana\",\"grapes\",\"mango\"]"
   ]
  },
  {
   "cell_type": "code",
   "execution_count": 22,
   "id": "3a7e9d01-e835-448b-ad3a-1f682246fc1b",
   "metadata": {},
   "outputs": [
    {
     "name": "stdout",
     "output_type": "stream",
     "text": [
      "apple\n"
     ]
    }
   ],
   "source": [
    "#indexing\n",
    "print(fruits[0])"
   ]
  },
  {
   "cell_type": "code",
   "execution_count": 24,
   "id": "5db52c60-6449-4ab4-87f7-50ed378d8ed4",
   "metadata": {},
   "outputs": [
    {
     "name": "stdout",
     "output_type": "stream",
     "text": [
      "mango\n"
     ]
    }
   ],
   "source": [
    "print(fruits[3])"
   ]
  },
  {
   "cell_type": "code",
   "execution_count": 26,
   "id": "0d3c18c2-9037-41e6-8a43-6eaa67411039",
   "metadata": {},
   "outputs": [
    {
     "name": "stdout",
     "output_type": "stream",
     "text": [
      "mango\n"
     ]
    }
   ],
   "source": [
    "print(fruits[-1])"
   ]
  },
  {
   "cell_type": "code",
   "execution_count": 32,
   "id": "bab56619-be15-4c1d-9263-d6b87344589a",
   "metadata": {},
   "outputs": [
    {
     "name": "stdout",
     "output_type": "stream",
     "text": [
      "banana\n"
     ]
    }
   ],
   "source": [
    "print(fruits[-3])"
   ]
  },
  {
   "cell_type": "code",
   "execution_count": 42,
   "id": "5e978295-2acc-4fd2-bbb0-0a009cbc4e28",
   "metadata": {},
   "outputs": [
    {
     "data": {
      "text/plain": [
       "[10, 20, 30, 40, 50, 60, 70, 80, 90]"
      ]
     },
     "execution_count": 42,
     "metadata": {},
     "output_type": "execute_result"
    }
   ],
   "source": [
    "#slicing\n",
    "numbers=[10,20,30,40,50,60,70,80,90]\n",
    "numbers"
   ]
  },
  {
   "cell_type": "code",
   "execution_count": 44,
   "id": "c22154ca-4ed7-4c0d-ae45-d550f9823b04",
   "metadata": {},
   "outputs": [
    {
     "data": {
      "text/plain": [
       "[30, 40, 50]"
      ]
     },
     "execution_count": 44,
     "metadata": {},
     "output_type": "execute_result"
    }
   ],
   "source": [
    "numbers[2:5]"
   ]
  },
  {
   "cell_type": "code",
   "execution_count": 46,
   "id": "451d133b-8d2f-4008-bbdd-ff40a97170d4",
   "metadata": {},
   "outputs": [
    {
     "data": {
      "text/plain": [
       "[50, 60, 70]"
      ]
     },
     "execution_count": 46,
     "metadata": {},
     "output_type": "execute_result"
    }
   ],
   "source": [
    "numbers[-5:-2]"
   ]
  },
  {
   "cell_type": "code",
   "execution_count": 58,
   "id": "76f4e2ab-6f41-445e-b136-b690d683fdc8",
   "metadata": {},
   "outputs": [
    {
     "data": {
      "text/plain": [
       "[70, 80]"
      ]
     },
     "execution_count": 58,
     "metadata": {},
     "output_type": "execute_result"
    }
   ],
   "source": [
    "numbers[-3:-1]"
   ]
  },
  {
   "cell_type": "code",
   "execution_count": 62,
   "id": "333c84a5-fdf8-4c8c-bbe3-f567fa0158f6",
   "metadata": {},
   "outputs": [
    {
     "data": {
      "text/plain": [
       "[40, 50, 60, 70]"
      ]
     },
     "execution_count": 62,
     "metadata": {},
     "output_type": "execute_result"
    }
   ],
   "source": [
    "numbers[-6:-2]"
   ]
  },
  {
   "cell_type": "code",
   "execution_count": 81,
   "id": "8d5d2785-1c85-459a-8a36-9ada10170527",
   "metadata": {},
   "outputs": [],
   "source": [
    "numbers[1:5]=[1]"
   ]
  },
  {
   "cell_type": "code",
   "execution_count": 83,
   "id": "c5f5807c-9e9f-4b81-93cf-04693248115e",
   "metadata": {},
   "outputs": [
    {
     "data": {
      "text/plain": [
       "[10, 1, 60, 70, 80, 90]"
      ]
     },
     "execution_count": 83,
     "metadata": {},
     "output_type": "execute_result"
    }
   ],
   "source": [
    "numbers"
   ]
  },
  {
   "cell_type": "code",
   "execution_count": 100,
   "id": "5c350ab5-cee8-4ba2-ab9b-62d44ae7a6be",
   "metadata": {},
   "outputs": [
    {
     "data": {
      "text/plain": [
       "[30, 40, 50, 60]"
      ]
     },
     "execution_count": 100,
     "metadata": {},
     "output_type": "execute_result"
    }
   ],
   "source": [
    "numbers=[10, 20, 30, 40, 50, 60, 70, 80, 90]\n",
    "numbers[2:6]\n"
   ]
  },
  {
   "cell_type": "code",
   "execution_count": 102,
   "id": "96ce82b5-09c0-4af2-8ee9-7e21a1c0a84b",
   "metadata": {},
   "outputs": [
    {
     "data": {
      "text/plain": [
       "[10, 20, 30]"
      ]
     },
     "execution_count": 102,
     "metadata": {},
     "output_type": "execute_result"
    }
   ],
   "source": [
    "numbers[0:3]"
   ]
  },
  {
   "cell_type": "code",
   "execution_count": 104,
   "id": "f69aee2c-59dc-44db-9a0e-b0023da249ea",
   "metadata": {},
   "outputs": [],
   "source": [
    "numbers[1:5]=[1]"
   ]
  },
  {
   "cell_type": "code",
   "execution_count": 106,
   "id": "9dda9782-5ceb-4b4f-9960-4a56854a865c",
   "metadata": {},
   "outputs": [
    {
     "data": {
      "text/plain": [
       "[10, 1, 60, 70, 80, 90]"
      ]
     },
     "execution_count": 106,
     "metadata": {},
     "output_type": "execute_result"
    }
   ],
   "source": [
    "numbers"
   ]
  },
  {
   "cell_type": "code",
   "execution_count": 108,
   "id": "a930a545-561f-407f-8cee-3e5cae402a5c",
   "metadata": {},
   "outputs": [],
   "source": [
    "cities=[\"new york\",\"los angeles\",\"chicago\",\"houston\"]\n",
    "del cities[1]"
   ]
  },
  {
   "cell_type": "code",
   "execution_count": 110,
   "id": "0dea1b2c-1670-42b0-b797-fade14f6dc31",
   "metadata": {},
   "outputs": [
    {
     "data": {
      "text/plain": [
       "['new york', 'chicago', 'houston']"
      ]
     },
     "execution_count": 110,
     "metadata": {},
     "output_type": "execute_result"
    }
   ],
   "source": [
    "cities"
   ]
  },
  {
   "cell_type": "code",
   "execution_count": 114,
   "id": "71a58d41-b541-460b-a1f2-b794fb397332",
   "metadata": {},
   "outputs": [],
   "source": [
    "del cities[2]"
   ]
  },
  {
   "cell_type": "code",
   "execution_count": 116,
   "id": "c13c6ae8-43fc-496e-9eb7-874072cf9f65",
   "metadata": {},
   "outputs": [
    {
     "data": {
      "text/plain": [
       "['new york', 'chicago']"
      ]
     },
     "execution_count": 116,
     "metadata": {},
     "output_type": "execute_result"
    }
   ],
   "source": [
    "cities"
   ]
  },
  {
   "cell_type": "code",
   "execution_count": 118,
   "id": "5e52cb99-80ee-4ed6-a4fc-88f8235f24d5",
   "metadata": {},
   "outputs": [],
   "source": [
    "languages=[\"python\",\"java\",\"c\",\"c++\"]\n",
    "languages.insert(1,\"js\")"
   ]
  },
  {
   "cell_type": "code",
   "execution_count": 120,
   "id": "793d6faa-5157-4312-ba4f-e1414812bddd",
   "metadata": {},
   "outputs": [
    {
     "data": {
      "text/plain": [
       "['python', 'js', 'java', 'c', 'c++']"
      ]
     },
     "execution_count": 120,
     "metadata": {},
     "output_type": "execute_result"
    }
   ],
   "source": [
    "languages"
   ]
  },
  {
   "cell_type": "code",
   "execution_count": 126,
   "id": "8f047043-51c2-471f-9fc6-8f0531216a34",
   "metadata": {},
   "outputs": [],
   "source": [
    "#operations on list\n",
    "list1=[1,2,3]\n",
    "list2=[4,5,6]\n",
    "result=list1+list2"
   ]
  },
  {
   "cell_type": "code",
   "execution_count": 130,
   "id": "a5435389-c63e-4b8d-8d70-b6a04bf539e5",
   "metadata": {},
   "outputs": [
    {
     "name": "stdout",
     "output_type": "stream",
     "text": [
      "[1, 2, 3, 4, 5, 6]\n"
     ]
    }
   ],
   "source": [
    "print(result)"
   ]
  },
  {
   "cell_type": "code",
   "execution_count": 132,
   "id": "8020742b-cf12-458e-834b-8943a9e60b54",
   "metadata": {},
   "outputs": [
    {
     "name": "stdout",
     "output_type": "stream",
     "text": [
      "[1, 2, 3, 1, 2, 3, 1, 2, 3, 1, 2, 3]\n"
     ]
    }
   ],
   "source": [
    "list1=[1,2,3]\n",
    "result=list1*4\n",
    "print(result)"
   ]
  },
  {
   "cell_type": "code",
   "execution_count": 140,
   "id": "e2491641-b14c-4e4c-a2ca-2bd94116a837",
   "metadata": {},
   "outputs": [
    {
     "data": {
      "text/plain": [
       "True"
      ]
     },
     "execution_count": 140,
     "metadata": {},
     "output_type": "execute_result"
    }
   ],
   "source": [
    "#membership op\n",
    "my_list=[1,2,3]\n",
    "1 in  my_list"
   ]
  },
  {
   "cell_type": "code",
   "execution_count": 146,
   "id": "17315eff-da78-4309-8ed3-634d52a45db9",
   "metadata": {},
   "outputs": [
    {
     "data": {
      "text/plain": [
       "True"
      ]
     },
     "execution_count": 146,
     "metadata": {},
     "output_type": "execute_result"
    }
   ],
   "source": [
    "my_list=[1,2,3]\n",
    "5 not in  my_list"
   ]
  },
  {
   "cell_type": "code",
   "execution_count": 168,
   "id": "6a062aee-09e9-4e1d-84aa-4c6ec8f20c28",
   "metadata": {},
   "outputs": [
    {
     "data": {
      "text/plain": [
       "['grapes', 'mango', 'apple']"
      ]
     },
     "execution_count": 168,
     "metadata": {},
     "output_type": "execute_result"
    }
   ],
   "source": [
    "fruits=[\"grapes\",\"mango\",\"apple\"]\n",
    "\n",
    "fruits"
   ]
  },
  {
   "cell_type": "code",
   "execution_count": null,
   "id": "29b6ab49-979d-4316-b49f-cec2fae1b525",
   "metadata": {},
   "outputs": [],
   "source": []
  },
  {
   "cell_type": "code",
   "execution_count": null,
   "id": "d91a3b98-977a-43c3-a441-4a73930e8c2d",
   "metadata": {},
   "outputs": [],
   "source": []
  }
 ],
 "metadata": {
  "kernelspec": {
   "display_name": "Python [conda env:base] *",
   "language": "python",
   "name": "conda-base-py"
  },
  "language_info": {
   "codemirror_mode": {
    "name": "ipython",
    "version": 3
   },
   "file_extension": ".py",
   "mimetype": "text/x-python",
   "name": "python",
   "nbconvert_exporter": "python",
   "pygments_lexer": "ipython3",
   "version": "3.12.7"
  }
 },
 "nbformat": 4,
 "nbformat_minor": 5
}
