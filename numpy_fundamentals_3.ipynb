{
 "cells": [
  {
   "cell_type": "code",
   "execution_count": 1,
   "id": "e32803b2-87e2-4fac-94c4-c5318903c960",
   "metadata": {},
   "outputs": [],
   "source": [
    "#random number generations"
   ]
  },
  {
   "cell_type": "code",
   "execution_count": 3,
   "id": "a48424aa-fa69-4b62-96ea-30d0f32566df",
   "metadata": {},
   "outputs": [],
   "source": [
    "import numpy as np"
   ]
  },
  {
   "cell_type": "code",
   "execution_count": 5,
   "id": "84880026-2dcb-4a2d-aab1-48dc231ab593",
   "metadata": {},
   "outputs": [
    {
     "data": {
      "text/plain": [
       "0.14533192418504548"
      ]
     },
     "execution_count": 5,
     "metadata": {},
     "output_type": "execute_result"
    }
   ],
   "source": [
    "np.random.rand()             #uniform distribution"
   ]
  },
  {
   "cell_type": "code",
   "execution_count": 7,
   "id": "d2d5e851-527b-40eb-8574-538cfd099d34",
   "metadata": {},
   "outputs": [
    {
     "data": {
      "text/plain": [
       "-1.4263633322185831"
      ]
     },
     "execution_count": 7,
     "metadata": {},
     "output_type": "execute_result"
    }
   ],
   "source": [
    "np.random.randn()            #normal distribution"
   ]
  },
  {
   "cell_type": "code",
   "execution_count": 13,
   "id": "08e5d0bd-70c6-405d-b095-d619cc37061f",
   "metadata": {},
   "outputs": [],
   "source": [
    "uniform=np.random.rand(3,3)"
   ]
  },
  {
   "cell_type": "code",
   "execution_count": 20,
   "id": "b2e72ef6-487b-4a11-9142-7bd84f59f06e",
   "metadata": {},
   "outputs": [],
   "source": [
    "# np.where()"
   ]
  },
  {
   "cell_type": "code",
   "execution_count": 22,
   "id": "290829a8-a040-4e1f-9068-da2d00a9faf0",
   "metadata": {},
   "outputs": [],
   "source": [
    "arr=np.array([1,2,3,4,5])"
   ]
  },
  {
   "cell_type": "code",
   "execution_count": 24,
   "id": "15468d56-9092-4091-b966-162881934f17",
   "metadata": {},
   "outputs": [
    {
     "data": {
      "text/plain": [
       "(array([3, 4], dtype=int64),)"
      ]
     },
     "execution_count": 24,
     "metadata": {},
     "output_type": "execute_result"
    }
   ],
   "source": [
    "np.where(arr>3)"
   ]
  },
  {
   "cell_type": "code",
   "execution_count": 26,
   "id": "26ab7615-7877-4035-ae2a-af70ea3549cd",
   "metadata": {},
   "outputs": [
    {
     "data": {
      "text/plain": [
       "(array([2, 3, 4], dtype=int64),)"
      ]
     },
     "execution_count": 26,
     "metadata": {},
     "output_type": "execute_result"
    }
   ],
   "source": [
    "np.where(arr>2)"
   ]
  },
  {
   "cell_type": "code",
   "execution_count": 28,
   "id": "7f699fb0-a353-41fd-aa56-c2135320658c",
   "metadata": {},
   "outputs": [
    {
     "data": {
      "text/plain": [
       "(array([2, 3, 4], dtype=int64),)"
      ]
     },
     "execution_count": 28,
     "metadata": {},
     "output_type": "execute_result"
    }
   ],
   "source": [
    "np.where(arr>2)"
   ]
  },
  {
   "cell_type": "code",
   "execution_count": 30,
   "id": "ef466139-f763-47b9-b26d-eee4da89e2d4",
   "metadata": {},
   "outputs": [
    {
     "data": {
      "text/plain": [
       "(array([0], dtype=int64),)"
      ]
     },
     "execution_count": 30,
     "metadata": {},
     "output_type": "execute_result"
    }
   ],
   "source": [
    "np.where(arr<2)"
   ]
  },
  {
   "cell_type": "code",
   "execution_count": 32,
   "id": "8414025a-c880-46fd-aa43-175b2b78d21f",
   "metadata": {},
   "outputs": [],
   "source": [
    "arr=np.array([1,2,3,4,5])"
   ]
  },
  {
   "cell_type": "code",
   "execution_count": 34,
   "id": "d5eb7366-a518-47ca-be56-06d83f6aac6e",
   "metadata": {},
   "outputs": [
    {
     "data": {
      "text/plain": [
       "4"
      ]
     },
     "execution_count": 34,
     "metadata": {},
     "output_type": "execute_result"
    }
   ],
   "source": [
    "np.argmax(arr)"
   ]
  },
  {
   "cell_type": "code",
   "execution_count": 36,
   "id": "fe4dc3b7-3903-44b5-9bd4-65d4e8f84415",
   "metadata": {},
   "outputs": [
    {
     "data": {
      "text/plain": [
       "0"
      ]
     },
     "execution_count": 36,
     "metadata": {},
     "output_type": "execute_result"
    }
   ],
   "source": [
    "np.argmin(arr)"
   ]
  },
  {
   "cell_type": "code",
   "execution_count": 38,
   "id": "7a0da650-0a76-4d7d-b7d6-f9dd7eb1ca95",
   "metadata": {},
   "outputs": [],
   "source": [
    "sorted_arr=np.array([1,3,5,7])"
   ]
  },
  {
   "cell_type": "code",
   "execution_count": 40,
   "id": "c5913965-4f98-4d5b-8527-3e1e4dd51224",
   "metadata": {},
   "outputs": [
    {
     "data": {
      "text/plain": [
       "4"
      ]
     },
     "execution_count": 40,
     "metadata": {},
     "output_type": "execute_result"
    }
   ],
   "source": [
    "np.searchsorted(sorted_arr,100)"
   ]
  },
  {
   "cell_type": "code",
   "execution_count": 42,
   "id": "54d2dd68-2e72-4f68-b0c0-87bb3200ec2b",
   "metadata": {},
   "outputs": [
    {
     "data": {
      "text/plain": [
       "1"
      ]
     },
     "execution_count": 42,
     "metadata": {},
     "output_type": "execute_result"
    }
   ],
   "source": [
    "np.searchsorted(sorted_arr,2)"
   ]
  },
  {
   "cell_type": "code",
   "execution_count": 46,
   "id": "0c34d4ef-af71-41db-bf56-7476ec707d25",
   "metadata": {},
   "outputs": [
    {
     "data": {
      "text/plain": [
       "2"
      ]
     },
     "execution_count": 46,
     "metadata": {},
     "output_type": "execute_result"
    }
   ],
   "source": [
    "np.searchsorted(sorted_arr,4)"
   ]
  },
  {
   "cell_type": "code",
   "execution_count": 48,
   "id": "e8a17a41-2612-48fe-8924-f51eed88c5b9",
   "metadata": {},
   "outputs": [],
   "source": [
    "arr=np.array([1,2,3,4,5])"
   ]
  },
  {
   "cell_type": "code",
   "execution_count": 50,
   "id": "a7fa8edf-2b9c-492e-bca4-07c7af965e43",
   "metadata": {},
   "outputs": [
    {
     "name": "stdout",
     "output_type": "stream",
     "text": [
      "extract>3: [4 5]\n"
     ]
    }
   ],
   "source": [
    "print(\"extract>3:\",np.extract(arr>3,arr))"
   ]
  },
  {
   "cell_type": "code",
   "execution_count": null,
   "id": "056e616c-2ec0-4fdb-8923-610975883b72",
   "metadata": {},
   "outputs": [],
   "source": [
    "arr=np.array([1,2,3,4,5])"
   ]
  },
  {
   "cell_type": "code",
   "execution_count": 60,
   "id": "7e7544fa-91a6-4aa8-917f-efd9e150a5a5",
   "metadata": {},
   "outputs": [
    {
     "name": "stdout",
     "output_type": "stream",
     "text": [
      "mean value: 3.0\n"
     ]
    }
   ],
   "source": [
    "print(\"mean value:\",np.mean(arr))"
   ]
  },
  {
   "cell_type": "code",
   "execution_count": 62,
   "id": "90b71b4a-cf1d-49b8-bf1f-5ce80a99b1c8",
   "metadata": {},
   "outputs": [
    {
     "data": {
      "text/plain": [
       "3.0"
      ]
     },
     "execution_count": 62,
     "metadata": {},
     "output_type": "execute_result"
    }
   ],
   "source": [
    "np.mean(arr)"
   ]
  },
  {
   "cell_type": "code",
   "execution_count": 68,
   "id": "84351a83-09b0-41e8-8b27-03683bd22813",
   "metadata": {},
   "outputs": [],
   "source": [
    "arr=np.array([1,2,3,4,5,6])"
   ]
  },
  {
   "cell_type": "code",
   "execution_count": 70,
   "id": "ce9870b5-d3b0-4896-81f1-f66b91474a54",
   "metadata": {},
   "outputs": [
    {
     "data": {
      "text/plain": [
       "[array([1, 2]), array([3, 4]), array([5, 6])]"
      ]
     },
     "execution_count": 70,
     "metadata": {},
     "output_type": "execute_result"
    }
   ],
   "source": [
    "np.split(arr,3)"
   ]
  },
  {
   "cell_type": "code",
   "execution_count": 72,
   "id": "4edcb149-36e2-4e67-b48e-c00dfc47a86b",
   "metadata": {},
   "outputs": [
    {
     "data": {
      "text/plain": [
       "[array([1, 2, 3]), array([4, 5, 6])]"
      ]
     },
     "execution_count": 72,
     "metadata": {},
     "output_type": "execute_result"
    }
   ],
   "source": [
    "np.split(arr,2)"
   ]
  },
  {
   "cell_type": "code",
   "execution_count": 74,
   "id": "eec579a6-ddea-4d96-b12c-ef67da723333",
   "metadata": {},
   "outputs": [
    {
     "data": {
      "text/plain": [
       "[array([1]), array([2, 3, 4]), array([5, 6])]"
      ]
     },
     "execution_count": 74,
     "metadata": {},
     "output_type": "execute_result"
    }
   ],
   "source": [
    "np.split(arr,[1,4])"
   ]
  },
  {
   "cell_type": "code",
   "execution_count": 76,
   "id": "d0820207-a7e0-4028-a703-0812f874da0e",
   "metadata": {},
   "outputs": [
    {
     "data": {
      "text/plain": [
       "[array([1, 2]), array([3, 4, 5]), array([6])]"
      ]
     },
     "execution_count": 76,
     "metadata": {},
     "output_type": "execute_result"
    }
   ],
   "source": [
    "np.split(arr,[2,5])"
   ]
  },
  {
   "cell_type": "code",
   "execution_count": 80,
   "id": "d1b84792-3f3f-4aae-824d-6d40edbc29ad",
   "metadata": {},
   "outputs": [],
   "source": [
    "matrix=np.array([[1,2,3],\n",
    "                 [4,5,6]])"
   ]
  },
  {
   "cell_type": "code",
   "execution_count": 84,
   "id": "5c62b5f5-6fdd-4e44-889a-be82c9455d3f",
   "metadata": {},
   "outputs": [
    {
     "data": {
      "text/plain": [
       "[array([[1, 2, 3]]), array([[4, 5, 6]])]"
      ]
     },
     "execution_count": 84,
     "metadata": {},
     "output_type": "execute_result"
    }
   ],
   "source": [
    "np.split(matrix,2,axis=0)"
   ]
  },
  {
   "cell_type": "code",
   "execution_count": 86,
   "id": "84073940-5d78-467b-be75-191ece1dbfc1",
   "metadata": {},
   "outputs": [
    {
     "data": {
      "text/plain": [
       "[array([[1],\n",
       "        [4]]),\n",
       " array([[2],\n",
       "        [5]]),\n",
       " array([[3],\n",
       "        [6]])]"
      ]
     },
     "execution_count": 86,
     "metadata": {},
     "output_type": "execute_result"
    }
   ],
   "source": [
    "np.split(matrix,3,axis=1)"
   ]
  },
  {
   "cell_type": "code",
   "execution_count": 88,
   "id": "b9851083-d613-4776-afe2-38e30c7ae295",
   "metadata": {},
   "outputs": [],
   "source": [
    "arr=np.array([3,1,2,6,4])"
   ]
  },
  {
   "cell_type": "code",
   "execution_count": 90,
   "id": "dfc64865-5052-45e2-8e0a-66f1181be4c5",
   "metadata": {},
   "outputs": [
    {
     "name": "stdout",
     "output_type": "stream",
     "text": [
      "sorted copy: [1 2 3 4 6]\n"
     ]
    }
   ],
   "source": [
    "print(\"sorted copy:\",np.sort(arr))"
   ]
  },
  {
   "cell_type": "code",
   "execution_count": 94,
   "id": "7f7092a7-086a-4c7c-9b61-300128be7a8c",
   "metadata": {},
   "outputs": [],
   "source": [
    "arr.sort()"
   ]
  },
  {
   "cell_type": "code",
   "execution_count": 96,
   "id": "728f031f-7ef0-4ee4-98df-3b3f99a23acc",
   "metadata": {},
   "outputs": [
    {
     "name": "stdout",
     "output_type": "stream",
     "text": [
      "sorted copy: [1 2 3 4 6]\n"
     ]
    }
   ],
   "source": [
    "print(\"sorted copy:\",(arr))"
   ]
  },
  {
   "cell_type": "code",
   "execution_count": null,
   "id": "0872864b-b630-4138-9ffa-5b4f0571bb5e",
   "metadata": {},
   "outputs": [],
   "source": []
  }
 ],
 "metadata": {
  "kernelspec": {
   "display_name": "Python [conda env:base] *",
   "language": "python",
   "name": "conda-base-py"
  },
  "language_info": {
   "codemirror_mode": {
    "name": "ipython",
    "version": 3
   },
   "file_extension": ".py",
   "mimetype": "text/x-python",
   "name": "python",
   "nbconvert_exporter": "python",
   "pygments_lexer": "ipython3",
   "version": "3.12.7"
  }
 },
 "nbformat": 4,
 "nbformat_minor": 5
}
